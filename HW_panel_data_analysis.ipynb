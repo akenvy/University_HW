{
  "nbformat": 4,
  "nbformat_minor": 0,
  "metadata": {
    "colab": {
      "provenance": [],
      "toc_visible": true
    },
    "kernelspec": {
      "name": "python3",
      "display_name": "Python 3"
    }
  },
  "cells": [
    {
      "cell_type": "markdown",
      "metadata": {
        "id": "S-AsQ2Gkalpj"
      },
      "source": [
        "### Задание 1 ###"
      ]
    },
    {
      "cell_type": "code",
      "metadata": {
        "id": "M8_IJMY6DnNq"
      },
      "source": [
        "# Скачиваем данные из эксель файлов в облаке, где они были предобработаны.\n",
        "# Файлы аналогичны тем, что приложены к письму"
      ],
      "execution_count": null,
      "outputs": []
    },
    {
      "cell_type": "code",
      "metadata": {
        "id": "uCrOSZBz_TWo",
        "outputId": "cb7d59b7-5b64-46b9-ee2c-338a2c91c8d5",
        "colab": {
          "base_uri": "https://localhost:8080/",
          "height": 453
        }
      },
      "source": [
        "!wget -O Looks_Data https://www.dropbox.com/s/uwk881e9zj6ztpo/Looks_Data%20%281%29.xlsx?dl=0"
      ],
      "execution_count": null,
      "outputs": [
        {
          "output_type": "stream",
          "text": [
            "--2020-10-22 04:41:40--  https://www.dropbox.com/s/uwk881e9zj6ztpo/Looks_Data%20%281%29.xlsx?dl=0\n",
            "Resolving www.dropbox.com (www.dropbox.com)... 162.125.1.1, 2620:100:6016:1::a27d:101\n",
            "Connecting to www.dropbox.com (www.dropbox.com)|162.125.1.1|:443... connected.\n",
            "HTTP request sent, awaiting response... 301 Moved Permanently\n",
            "Location: /s/raw/uwk881e9zj6ztpo/Looks_Data%20%281%29.xlsx [following]\n",
            "--2020-10-22 04:41:41--  https://www.dropbox.com/s/raw/uwk881e9zj6ztpo/Looks_Data%20%281%29.xlsx\n",
            "Reusing existing connection to www.dropbox.com:443.\n",
            "HTTP request sent, awaiting response... 302 Found\n",
            "Location: https://uc908a626a0ff9726fd3a728f5d5.dl.dropboxusercontent.com/cd/0/inline/BBvGH3NOH3JnLL-BYED5beWP1kQAf2ZlRDXpnce_icEv6P-9jhXF2Jj7CaSWFlqv6XDA8vJSs7ex_UOKGowcVXjrwO3zOXC9X--1ZVYhLpniWRdG-VYdBnQJcHKxwFDEn6k/file# [following]\n",
            "--2020-10-22 04:41:41--  https://uc908a626a0ff9726fd3a728f5d5.dl.dropboxusercontent.com/cd/0/inline/BBvGH3NOH3JnLL-BYED5beWP1kQAf2ZlRDXpnce_icEv6P-9jhXF2Jj7CaSWFlqv6XDA8vJSs7ex_UOKGowcVXjrwO3zOXC9X--1ZVYhLpniWRdG-VYdBnQJcHKxwFDEn6k/file\n",
            "Resolving uc908a626a0ff9726fd3a728f5d5.dl.dropboxusercontent.com (uc908a626a0ff9726fd3a728f5d5.dl.dropboxusercontent.com)... 162.125.1.15, 2620:100:6016:15::a27d:10f\n",
            "Connecting to uc908a626a0ff9726fd3a728f5d5.dl.dropboxusercontent.com (uc908a626a0ff9726fd3a728f5d5.dl.dropboxusercontent.com)|162.125.1.15|:443... connected.\n",
            "HTTP request sent, awaiting response... 302 Found\n",
            "Location: /cd/0/inline2/BBtT2CforCQYNWoPKeabx8coEpHv6dVt22hO-qu_e7f2tlwwSrRGipyR-DegQi-3otkAZQYhGdpQWOCf8EQW1y2tKTgM8BscHw9RIxOyEspy2TgQ2seT_L2WJzNizbSxQ5kP2QM-7MeJqWy2iHunn9VmK7A3Z4wUHqEvN4DrtU6TWQjcOtwBXnkHRK02DXRmn3HvA4ZFPUx3E5GmviiElZZt2YKX4OwOzBih_d4ovfr0IK72cftE1sZ13-XrCPQVQM5wk2-iJmartNN18WQ1pZYlSRCqE79c6VWAgF4ISKhhcMI5AMOr_54NTwlO_cuHgXTypYgFNxZws6r6riGOl7EkuvIgT-3IWLDGHx8hS-Zptg/file [following]\n",
            "--2020-10-22 04:41:41--  https://uc908a626a0ff9726fd3a728f5d5.dl.dropboxusercontent.com/cd/0/inline2/BBtT2CforCQYNWoPKeabx8coEpHv6dVt22hO-qu_e7f2tlwwSrRGipyR-DegQi-3otkAZQYhGdpQWOCf8EQW1y2tKTgM8BscHw9RIxOyEspy2TgQ2seT_L2WJzNizbSxQ5kP2QM-7MeJqWy2iHunn9VmK7A3Z4wUHqEvN4DrtU6TWQjcOtwBXnkHRK02DXRmn3HvA4ZFPUx3E5GmviiElZZt2YKX4OwOzBih_d4ovfr0IK72cftE1sZ13-XrCPQVQM5wk2-iJmartNN18WQ1pZYlSRCqE79c6VWAgF4ISKhhcMI5AMOr_54NTwlO_cuHgXTypYgFNxZws6r6riGOl7EkuvIgT-3IWLDGHx8hS-Zptg/file\n",
            "Reusing existing connection to uc908a626a0ff9726fd3a728f5d5.dl.dropboxusercontent.com:443.\n",
            "HTTP request sent, awaiting response... 200 OK\n",
            "Length: 5415123 (5.2M) [application/vnd.openxmlformats-officedocument.spreadsheetml.sheet]\n",
            "Saving to: ‘Looks_Data’\n",
            "\n",
            "Looks_Data          100%[===================>]   5.16M  17.9MB/s    in 0.3s    \n",
            "\n",
            "2020-10-22 04:41:42 (17.9 MB/s) - ‘Looks_Data’ saved [5415123/5415123]\n",
            "\n"
          ],
          "name": "stdout"
        }
      ]
    },
    {
      "cell_type": "code",
      "metadata": {
        "id": "1XkzCMQg_gj1",
        "outputId": "9c8045a6-f93e-466a-be87-fed15adfeaaa",
        "colab": {
          "base_uri": "https://localhost:8080/",
          "height": 453
        }
      },
      "source": [
        "!wget -O Reg_data https://www.dropbox.com/s/e4rpws4al48x3ll/Reg_data2.xlsx?dl=0"
      ],
      "execution_count": null,
      "outputs": [
        {
          "output_type": "stream",
          "text": [
            "--2020-10-22 04:41:42--  https://www.dropbox.com/s/e4rpws4al48x3ll/Reg_data2.xlsx?dl=0\n",
            "Resolving www.dropbox.com (www.dropbox.com)... 162.125.1.1, 2620:100:6016:1::a27d:101\n",
            "Connecting to www.dropbox.com (www.dropbox.com)|162.125.1.1|:443... connected.\n",
            "HTTP request sent, awaiting response... 301 Moved Permanently\n",
            "Location: /s/raw/e4rpws4al48x3ll/Reg_data2.xlsx [following]\n",
            "--2020-10-22 04:41:42--  https://www.dropbox.com/s/raw/e4rpws4al48x3ll/Reg_data2.xlsx\n",
            "Reusing existing connection to www.dropbox.com:443.\n",
            "HTTP request sent, awaiting response... 302 Found\n",
            "Location: https://uc97c548f7d3d613be2f0b40dd17.dl.dropboxusercontent.com/cd/0/inline/BBvX6Comt3eXekF0Lv7yQS-7bu6TIYsI4o4VjXaysMdxQu0DZtrMPgcOoZKcsh_amIFKQZxo1YzTHYsh5rs1vtyYzbE_lJppr6Bx1dehgyJTD2f5NgYg2ODiE9jETqulHDE/file# [following]\n",
            "--2020-10-22 04:41:42--  https://uc97c548f7d3d613be2f0b40dd17.dl.dropboxusercontent.com/cd/0/inline/BBvX6Comt3eXekF0Lv7yQS-7bu6TIYsI4o4VjXaysMdxQu0DZtrMPgcOoZKcsh_amIFKQZxo1YzTHYsh5rs1vtyYzbE_lJppr6Bx1dehgyJTD2f5NgYg2ODiE9jETqulHDE/file\n",
            "Resolving uc97c548f7d3d613be2f0b40dd17.dl.dropboxusercontent.com (uc97c548f7d3d613be2f0b40dd17.dl.dropboxusercontent.com)... 162.125.1.15, 2620:100:6016:15::a27d:10f\n",
            "Connecting to uc97c548f7d3d613be2f0b40dd17.dl.dropboxusercontent.com (uc97c548f7d3d613be2f0b40dd17.dl.dropboxusercontent.com)|162.125.1.15|:443... connected.\n",
            "HTTP request sent, awaiting response... 302 Found\n",
            "Location: /cd/0/inline2/BBvFlmAQ6ksoLi3UK8BDl7SW1qJL37JENXVkKUC3WHz6c8WZ8Qh3-cNSXpAPTFtHt8eDsNmQgYLhimF1lehL3aUcmjfn-X50Cz-soPtui1UP4BztDaG6HcNujBB-uUyqk5d3S8tEUVODKXi4XD1WvUIyA7RWSxL9ljEs_RBFz34rtEhdNGTqCS6lDfORp61FvZ0D0eosDnM-q-z9DmtkixGiMv5oyDvS3Mm3rKqvjgth-objOAt-oZRMLMJ-kUiQPjBO_mhsBmzGI04g8GJbyFwXmxX6CCYpUgyvm2BfpHMGOVGZ3jm_j6hBc38KD6yN3bSKEOr7BUW27oc7jxBaW0cddNddCdmIKiEGfKPRuLRYzA/file [following]\n",
            "--2020-10-22 04:41:43--  https://uc97c548f7d3d613be2f0b40dd17.dl.dropboxusercontent.com/cd/0/inline2/BBvFlmAQ6ksoLi3UK8BDl7SW1qJL37JENXVkKUC3WHz6c8WZ8Qh3-cNSXpAPTFtHt8eDsNmQgYLhimF1lehL3aUcmjfn-X50Cz-soPtui1UP4BztDaG6HcNujBB-uUyqk5d3S8tEUVODKXi4XD1WvUIyA7RWSxL9ljEs_RBFz34rtEhdNGTqCS6lDfORp61FvZ0D0eosDnM-q-z9DmtkixGiMv5oyDvS3Mm3rKqvjgth-objOAt-oZRMLMJ-kUiQPjBO_mhsBmzGI04g8GJbyFwXmxX6CCYpUgyvm2BfpHMGOVGZ3jm_j6hBc38KD6yN3bSKEOr7BUW27oc7jxBaW0cddNddCdmIKiEGfKPRuLRYzA/file\n",
            "Reusing existing connection to uc97c548f7d3d613be2f0b40dd17.dl.dropboxusercontent.com:443.\n",
            "HTTP request sent, awaiting response... 200 OK\n",
            "Length: 365366 (357K) [application/vnd.openxmlformats-officedocument.spreadsheetml.sheet]\n",
            "Saving to: ‘Reg_data’\n",
            "\n",
            "Reg_data            100%[===================>] 356.80K  --.-KB/s    in 0.03s   \n",
            "\n",
            "2020-10-22 04:41:43 (10.7 MB/s) - ‘Reg_data’ saved [365366/365366]\n",
            "\n"
          ],
          "name": "stdout"
        }
      ]
    },
    {
      "cell_type": "code",
      "metadata": {
        "id": "Z8B9EpaUFIGW",
        "outputId": "0da77e6e-679f-47dd-f1a0-bfc569d98c30",
        "colab": {
          "base_uri": "https://localhost:8080/",
          "height": 72
        }
      },
      "source": [
        "import pandas as pd\n",
        "import numpy as np\n",
        "import statsmodels.api as sm\n",
        "import matplotlib\n",
        "import matplotlib.pyplot as plt\n",
        "\n",
        "from scipy.stats import shapiro"
      ],
      "execution_count": null,
      "outputs": [
        {
          "output_type": "stream",
          "text": [
            "/usr/local/lib/python3.6/dist-packages/statsmodels/tools/_testing.py:19: FutureWarning: pandas.util.testing is deprecated. Use the functions in the public API at pandas.testing instead.\n",
            "  import pandas.util.testing as tm\n"
          ],
          "name": "stderr"
        }
      ]
    },
    {
      "cell_type": "code",
      "metadata": {
        "id": "XT86u3l0GFMr",
        "outputId": "7ee44aed-8302-49ba-dc19-dabb4859c44b",
        "colab": {
          "base_uri": "https://localhost:8080/",
          "height": 35
        }
      },
      "source": [
        "file = 'Reg_data'\n",
        "xl = pd.ExcelFile(file)\n",
        "print(xl.sheet_names)"
      ],
      "execution_count": null,
      "outputs": [
        {
          "output_type": "stream",
          "text": [
            "['Sheet1', 'Sheet3', 'Panel ', 'Sheet2', 'Transactions', 'Footfall', 'Usage']\n"
          ],
          "name": "stdout"
        }
      ]
    },
    {
      "cell_type": "code",
      "metadata": {
        "id": "PpEtEORFG1tn",
        "outputId": "673ef050-82e7-4a5e-cc10-e1df7d5de4fa",
        "colab": {
          "base_uri": "https://localhost:8080/",
          "height": 309
        }
      },
      "source": [
        "df = xl.parse('Sheet3')\n",
        "df.head(5)"
      ],
      "execution_count": null,
      "outputs": [
        {
          "output_type": "execute_result",
          "data": {
            "text/html": [
              "<div>\n",
              "<style scoped>\n",
              "    .dataframe tbody tr th:only-of-type {\n",
              "        vertical-align: middle;\n",
              "    }\n",
              "\n",
              "    .dataframe tbody tr th {\n",
              "        vertical-align: top;\n",
              "    }\n",
              "\n",
              "    .dataframe thead th {\n",
              "        text-align: right;\n",
              "    }\n",
              "</style>\n",
              "<table border=\"1\" class=\"dataframe\">\n",
              "  <thead>\n",
              "    <tr style=\"text-align: right;\">\n",
              "      <th></th>\n",
              "      <th>t</th>\n",
              "      <th>y1</th>\n",
              "      <th>x1</th>\n",
              "      <th>y2</th>\n",
              "      <th>x2</th>\n",
              "      <th>y3</th>\n",
              "      <th>x3</th>\n",
              "      <th>y5</th>\n",
              "      <th>x5</th>\n",
              "      <th>y6</th>\n",
              "      <th>x6</th>\n",
              "      <th>y7</th>\n",
              "      <th>x7</th>\n",
              "      <th>y8</th>\n",
              "      <th>x8</th>\n",
              "      <th>y9</th>\n",
              "      <th>x9</th>\n",
              "      <th>y10</th>\n",
              "      <th>x10</th>\n",
              "    </tr>\n",
              "  </thead>\n",
              "  <tbody>\n",
              "    <tr>\n",
              "      <th>0</th>\n",
              "      <td>2020-08-23</td>\n",
              "      <td>0.559486</td>\n",
              "      <td>0.183280</td>\n",
              "      <td>0.590909</td>\n",
              "      <td>0.139614</td>\n",
              "      <td>0.500000</td>\n",
              "      <td>0.109551</td>\n",
              "      <td>0.461538</td>\n",
              "      <td>0.025641</td>\n",
              "      <td>0.573276</td>\n",
              "      <td>0.224138</td>\n",
              "      <td>0.521739</td>\n",
              "      <td>0.046377</td>\n",
              "      <td>0.715000</td>\n",
              "      <td>0.080000</td>\n",
              "      <td>0.653153</td>\n",
              "      <td>0.180180</td>\n",
              "      <td>0.458333</td>\n",
              "      <td>0.009804</td>\n",
              "    </tr>\n",
              "    <tr>\n",
              "      <th>1</th>\n",
              "      <td>2020-08-24</td>\n",
              "      <td>0.601467</td>\n",
              "      <td>0.173594</td>\n",
              "      <td>0.611111</td>\n",
              "      <td>0.133320</td>\n",
              "      <td>0.769679</td>\n",
              "      <td>0.116618</td>\n",
              "      <td>0.541667</td>\n",
              "      <td>0.057292</td>\n",
              "      <td>0.708333</td>\n",
              "      <td>0.023810</td>\n",
              "      <td>0.558317</td>\n",
              "      <td>0.139579</td>\n",
              "      <td>0.527950</td>\n",
              "      <td>0.354037</td>\n",
              "      <td>0.693333</td>\n",
              "      <td>0.211111</td>\n",
              "      <td>0.466667</td>\n",
              "      <td>0.046154</td>\n",
              "    </tr>\n",
              "    <tr>\n",
              "      <th>2</th>\n",
              "      <td>2020-08-25</td>\n",
              "      <td>0.599034</td>\n",
              "      <td>1.000000</td>\n",
              "      <td>0.702479</td>\n",
              "      <td>0.203857</td>\n",
              "      <td>0.751678</td>\n",
              "      <td>0.224832</td>\n",
              "      <td>0.558252</td>\n",
              "      <td>0.072816</td>\n",
              "      <td>0.653846</td>\n",
              "      <td>0.254438</td>\n",
              "      <td>0.523711</td>\n",
              "      <td>0.123711</td>\n",
              "      <td>0.676871</td>\n",
              "      <td>0.295918</td>\n",
              "      <td>0.649510</td>\n",
              "      <td>0.147059</td>\n",
              "      <td>0.532000</td>\n",
              "      <td>0.036000</td>\n",
              "    </tr>\n",
              "    <tr>\n",
              "      <th>3</th>\n",
              "      <td>2020-08-26</td>\n",
              "      <td>0.566929</td>\n",
              "      <td>0.238845</td>\n",
              "      <td>0.626667</td>\n",
              "      <td>0.180000</td>\n",
              "      <td>0.595420</td>\n",
              "      <td>0.216285</td>\n",
              "      <td>0.517391</td>\n",
              "      <td>0.113043</td>\n",
              "      <td>0.672922</td>\n",
              "      <td>0.302949</td>\n",
              "      <td>0.590909</td>\n",
              "      <td>0.097403</td>\n",
              "      <td>0.546032</td>\n",
              "      <td>0.095238</td>\n",
              "      <td>0.680357</td>\n",
              "      <td>0.383929</td>\n",
              "      <td>0.538462</td>\n",
              "      <td>0.084428</td>\n",
              "    </tr>\n",
              "    <tr>\n",
              "      <th>4</th>\n",
              "      <td>2020-08-27</td>\n",
              "      <td>0.610465</td>\n",
              "      <td>0.377907</td>\n",
              "      <td>0.639903</td>\n",
              "      <td>0.097324</td>\n",
              "      <td>0.917969</td>\n",
              "      <td>0.128906</td>\n",
              "      <td>0.482051</td>\n",
              "      <td>0.241026</td>\n",
              "      <td>0.729630</td>\n",
              "      <td>0.403704</td>\n",
              "      <td>0.632653</td>\n",
              "      <td>0.117347</td>\n",
              "      <td>0.622378</td>\n",
              "      <td>0.265734</td>\n",
              "      <td>0.695545</td>\n",
              "      <td>0.861386</td>\n",
              "      <td>0.541590</td>\n",
              "      <td>0.029575</td>\n",
              "    </tr>\n",
              "  </tbody>\n",
              "</table>\n",
              "</div>"
            ],
            "text/plain": [
              "           t        y1        x1  ...        x9       y10       x10\n",
              "0 2020-08-23  0.559486  0.183280  ...  0.180180  0.458333  0.009804\n",
              "1 2020-08-24  0.601467  0.173594  ...  0.211111  0.466667  0.046154\n",
              "2 2020-08-25  0.599034  1.000000  ...  0.147059  0.532000  0.036000\n",
              "3 2020-08-26  0.566929  0.238845  ...  0.383929  0.538462  0.084428\n",
              "4 2020-08-27  0.610465  0.377907  ...  0.861386  0.541590  0.029575\n",
              "\n",
              "[5 rows x 19 columns]"
            ]
          },
          "metadata": {
            "tags": []
          },
          "execution_count": 6
        }
      ]
    },
    {
      "cell_type": "code",
      "metadata": {
        "id": "HCt1O0x0F41u"
      },
      "source": [
        "# Магазин №9 удален, так как там всего 4 наблюдения для переменной Х\n",
        "# Построим регрессии для каждого магазина и добавим их в список\n",
        "model_list = []\n",
        "shops_ind = [1, 2, 3, 5, 6, 7, 8, 9, 10]\n",
        "for i in shops_ind:\n",
        "  mod = sm.OLS(np.array(df['y{}'.format(i)]), np.array(df['x{}'.format(i)]))\n",
        "  res = mod.fit()\n",
        "  model_list.append(res)\n"
      ],
      "execution_count": null,
      "outputs": []
    },
    {
      "cell_type": "code",
      "metadata": {
        "id": "o3S0FtGsMkWl",
        "outputId": "28888db2-d396-48e8-d2ee-ca9c5ed8d6cb",
        "colab": {
          "base_uri": "https://localhost:8080/",
          "height": 433
        }
      },
      "source": [
        "print(model_list[0].summary()) # пример объектов в списке model_list"
      ],
      "execution_count": null,
      "outputs": [
        {
          "output_type": "stream",
          "text": [
            "                                 OLS Regression Results                                \n",
            "=======================================================================================\n",
            "Dep. Variable:                      y   R-squared (uncentered):                   0.580\n",
            "Model:                            OLS   Adj. R-squared (uncentered):              0.566\n",
            "Method:                 Least Squares   F-statistic:                              40.07\n",
            "Date:                Thu, 22 Oct 2020   Prob (F-statistic):                    6.47e-07\n",
            "Time:                        04:41:44   Log-Likelihood:                         -16.386\n",
            "No. Observations:                  30   AIC:                                      34.77\n",
            "Df Residuals:                      29   BIC:                                      36.17\n",
            "Df Model:                           1                                                  \n",
            "Covariance Type:            nonrobust                                                  \n",
            "==============================================================================\n",
            "                 coef    std err          t      P>|t|      [0.025      0.975]\n",
            "------------------------------------------------------------------------------\n",
            "x1             1.6280      0.257      6.330      0.000       1.102       2.154\n",
            "==============================================================================\n",
            "Omnibus:                       30.411   Durbin-Watson:                   1.264\n",
            "Prob(Omnibus):                  0.000   Jarque-Bera (JB):               69.259\n",
            "Skew:                          -2.187   Prob(JB):                     9.13e-16\n",
            "Kurtosis:                       9.023   Cond. No.                         1.00\n",
            "==============================================================================\n",
            "\n",
            "Warnings:\n",
            "[1] Standard Errors assume that the covariance matrix of the errors is correctly specified.\n"
          ],
          "name": "stdout"
        }
      ]
    },
    {
      "cell_type": "code",
      "metadata": {
        "id": "uQDYQjnGK3Uy"
      },
      "source": [
        "model_params, model_f, model_pvalue_f, model_tvalues, model_pvalues_t, model_r2, model_r2_adj = ([] for i in range(7))\n",
        "model_shapiro, model_pvalue_shapiro, model_LB_Q, model_pvalue_LB_Q, model_bp_value, model_pvalue_bp = ([] for i in range(6))\n",
        " #model_norm, model_autocor, model_het = ([] for i in range(3))\n",
        "\n",
        "for i in model_list:\n",
        "  # Параметры моделей\n",
        "  model_params.append(i.params[0])\n",
        "\n",
        "  # Значимость модели\n",
        "  model_pvalue_f.append(i.f_pvalue)\n",
        "  model_f.append(i.fvalue)\n",
        "\n",
        "  # Значимость коэффициентов\n",
        "  model_tvalues.append(i.tvalues[0])\n",
        "  model_pvalues_t.append(i.pvalues[0])\n",
        "\n",
        "  # Объясняющая способность модели\n",
        "  model_r2.append(i.rsquared)\n",
        "  model_r2_adj.append(i.rsquared_adj)\n",
        "\n",
        "  # Нормальность остатков (Тест Шапиро-Уилка)\n",
        "  model_shapiro.append(shapiro(i.resid)[0])\n",
        "  model_pvalue_shapiro.append(shapiro(i.resid)[1])\n",
        "\n",
        "  # Автокорреляция остатков (Тест Льюинга-Бокса)\n",
        "  model_LB_Q.append(sm.stats.acorr_ljungbox(i.resid, lags=[10])[0][0])\n",
        "  model_pvalue_LB_Q.append(sm.stats.acorr_ljungbox(i.resid, lags=[5])[1][0])\n",
        "  \n",
        "  # Гетероскедастичность остатков (Тест Бреуша-Пагана)\n",
        "  model_bp_value.append(sm.stats.diagnostic.het_breuschpagan(i.resid, i.model.exog)[2])\n",
        "  model_pvalue_bp.append(sm.stats.diagnostic.het_breuschpagan(i.resid, i.model.exog)[3])\n"
      ],
      "execution_count": null,
      "outputs": []
    },
    {
      "cell_type": "code",
      "metadata": {
        "id": "mPJKMAM3SQ_G"
      },
      "source": [
        "results = pd.DataFrame()\n",
        "results['Params'] = model_params\n",
        "results['F_stat'] = model_f\n",
        "results['p_value(F)'] = model_pvalue_f\n",
        "results['t_stat'] = model_tvalues\n",
        "results['p_value(t)'] = model_pvalues_t\n",
        "results['r2'] = model_r2\n",
        "results['r2_adjusted'] = model_r2_adj\n",
        "\n",
        "results['shapiro_stat'] = model_shapiro\n",
        "results['p_value(Shapiro)'] = model_pvalue_shapiro\n",
        "results['Q_stat'] = model_LB_Q\n",
        "results['p_value(Q)'] = model_pvalue_LB_Q\n",
        "results['BP_stat'] = model_bp_value\n",
        "results['p_value(BP)'] = model_pvalue_bp\n"
      ],
      "execution_count": null,
      "outputs": []
    },
    {
      "cell_type": "code",
      "metadata": {
        "id": "kWzCwf1Ebq5u",
        "outputId": "a317e95a-df0e-4c19-ba78-a594cf86c505",
        "colab": {
          "base_uri": "https://localhost:8080/",
          "height": 345
        }
      },
      "source": [
        "pd.set_option(\"display.precision\", 3)\n",
        "results"
      ],
      "execution_count": null,
      "outputs": [
        {
          "output_type": "execute_result",
          "data": {
            "text/html": [
              "<div>\n",
              "<style scoped>\n",
              "    .dataframe tbody tr th:only-of-type {\n",
              "        vertical-align: middle;\n",
              "    }\n",
              "\n",
              "    .dataframe tbody tr th {\n",
              "        vertical-align: top;\n",
              "    }\n",
              "\n",
              "    .dataframe thead th {\n",
              "        text-align: right;\n",
              "    }\n",
              "</style>\n",
              "<table border=\"1\" class=\"dataframe\">\n",
              "  <thead>\n",
              "    <tr style=\"text-align: right;\">\n",
              "      <th></th>\n",
              "      <th>Params</th>\n",
              "      <th>F_stat</th>\n",
              "      <th>p_value(F)</th>\n",
              "      <th>t_stat</th>\n",
              "      <th>p_value(t)</th>\n",
              "      <th>r2</th>\n",
              "      <th>r2_adjusted</th>\n",
              "      <th>shapiro_stat</th>\n",
              "      <th>p_value(Shapiro)</th>\n",
              "      <th>Q_stat</th>\n",
              "      <th>p_value(Q)</th>\n",
              "      <th>BP_stat</th>\n",
              "      <th>p_value(BP)</th>\n",
              "    </tr>\n",
              "  </thead>\n",
              "  <tbody>\n",
              "    <tr>\n",
              "      <th>0</th>\n",
              "      <td>1.628</td>\n",
              "      <td>40.070</td>\n",
              "      <td>6.467e-07</td>\n",
              "      <td>6.330</td>\n",
              "      <td>6.467e-07</td>\n",
              "      <td>0.580</td>\n",
              "      <td>0.566</td>\n",
              "      <td>0.789</td>\n",
              "      <td>4.196e-05</td>\n",
              "      <td>10.405</td>\n",
              "      <td>4.045e-01</td>\n",
              "      <td>22.333</td>\n",
              "      <td>5.433e-05</td>\n",
              "    </tr>\n",
              "    <tr>\n",
              "      <th>1</th>\n",
              "      <td>3.833</td>\n",
              "      <td>41.221</td>\n",
              "      <td>5.062e-07</td>\n",
              "      <td>6.420</td>\n",
              "      <td>5.062e-07</td>\n",
              "      <td>0.587</td>\n",
              "      <td>0.573</td>\n",
              "      <td>0.937</td>\n",
              "      <td>7.537e-02</td>\n",
              "      <td>11.231</td>\n",
              "      <td>2.287e-01</td>\n",
              "      <td>5.222</td>\n",
              "      <td>2.981e-02</td>\n",
              "    </tr>\n",
              "    <tr>\n",
              "      <th>2</th>\n",
              "      <td>4.794</td>\n",
              "      <td>77.253</td>\n",
              "      <td>1.132e-09</td>\n",
              "      <td>8.789</td>\n",
              "      <td>1.132e-09</td>\n",
              "      <td>0.727</td>\n",
              "      <td>0.718</td>\n",
              "      <td>0.928</td>\n",
              "      <td>4.218e-02</td>\n",
              "      <td>16.482</td>\n",
              "      <td>7.874e-02</td>\n",
              "      <td>16.827</td>\n",
              "      <td>3.031e-04</td>\n",
              "    </tr>\n",
              "    <tr>\n",
              "      <th>3</th>\n",
              "      <td>1.465</td>\n",
              "      <td>65.065</td>\n",
              "      <td>6.778e-09</td>\n",
              "      <td>8.066</td>\n",
              "      <td>6.778e-09</td>\n",
              "      <td>0.692</td>\n",
              "      <td>0.681</td>\n",
              "      <td>0.933</td>\n",
              "      <td>6.068e-02</td>\n",
              "      <td>15.860</td>\n",
              "      <td>8.839e-03</td>\n",
              "      <td>3.990</td>\n",
              "      <td>5.523e-02</td>\n",
              "    </tr>\n",
              "    <tr>\n",
              "      <th>4</th>\n",
              "      <td>1.417</td>\n",
              "      <td>58.739</td>\n",
              "      <td>1.888e-08</td>\n",
              "      <td>7.664</td>\n",
              "      <td>1.888e-08</td>\n",
              "      <td>0.669</td>\n",
              "      <td>0.658</td>\n",
              "      <td>0.746</td>\n",
              "      <td>7.881e-06</td>\n",
              "      <td>7.601</td>\n",
              "      <td>4.160e-01</td>\n",
              "      <td>25.943</td>\n",
              "      <td>1.956e-05</td>\n",
              "    </tr>\n",
              "    <tr>\n",
              "      <th>5</th>\n",
              "      <td>2.748</td>\n",
              "      <td>126.961</td>\n",
              "      <td>4.117e-12</td>\n",
              "      <td>11.268</td>\n",
              "      <td>4.117e-12</td>\n",
              "      <td>0.814</td>\n",
              "      <td>0.808</td>\n",
              "      <td>0.952</td>\n",
              "      <td>1.904e-01</td>\n",
              "      <td>9.588</td>\n",
              "      <td>8.872e-01</td>\n",
              "      <td>6.772</td>\n",
              "      <td>1.444e-02</td>\n",
              "    </tr>\n",
              "    <tr>\n",
              "      <th>6</th>\n",
              "      <td>2.227</td>\n",
              "      <td>27.627</td>\n",
              "      <td>1.245e-05</td>\n",
              "      <td>5.256</td>\n",
              "      <td>1.245e-05</td>\n",
              "      <td>0.488</td>\n",
              "      <td>0.470</td>\n",
              "      <td>0.829</td>\n",
              "      <td>2.294e-04</td>\n",
              "      <td>12.317</td>\n",
              "      <td>4.258e-01</td>\n",
              "      <td>12.600</td>\n",
              "      <td>1.337e-03</td>\n",
              "    </tr>\n",
              "    <tr>\n",
              "      <th>7</th>\n",
              "      <td>1.965</td>\n",
              "      <td>66.036</td>\n",
              "      <td>5.827e-09</td>\n",
              "      <td>8.126</td>\n",
              "      <td>5.827e-09</td>\n",
              "      <td>0.695</td>\n",
              "      <td>0.684</td>\n",
              "      <td>0.899</td>\n",
              "      <td>8.029e-03</td>\n",
              "      <td>5.531</td>\n",
              "      <td>7.360e-01</td>\n",
              "      <td>19.834</td>\n",
              "      <td>1.154e-04</td>\n",
              "    </tr>\n",
              "    <tr>\n",
              "      <th>8</th>\n",
              "      <td>3.598</td>\n",
              "      <td>53.338</td>\n",
              "      <td>4.814e-08</td>\n",
              "      <td>7.303</td>\n",
              "      <td>4.814e-08</td>\n",
              "      <td>0.648</td>\n",
              "      <td>0.636</td>\n",
              "      <td>0.828</td>\n",
              "      <td>2.196e-04</td>\n",
              "      <td>34.033</td>\n",
              "      <td>9.961e-06</td>\n",
              "      <td>21.177</td>\n",
              "      <td>7.659e-05</td>\n",
              "    </tr>\n",
              "  </tbody>\n",
              "</table>\n",
              "</div>"
            ],
            "text/plain": [
              "   Params   F_stat  p_value(F)  ...  p_value(Q)  BP_stat  p_value(BP)\n",
              "0   1.628   40.070   6.467e-07  ...   4.045e-01   22.333    5.433e-05\n",
              "1   3.833   41.221   5.062e-07  ...   2.287e-01    5.222    2.981e-02\n",
              "2   4.794   77.253   1.132e-09  ...   7.874e-02   16.827    3.031e-04\n",
              "3   1.465   65.065   6.778e-09  ...   8.839e-03    3.990    5.523e-02\n",
              "4   1.417   58.739   1.888e-08  ...   4.160e-01   25.943    1.956e-05\n",
              "5   2.748  126.961   4.117e-12  ...   8.872e-01    6.772    1.444e-02\n",
              "6   2.227   27.627   1.245e-05  ...   4.258e-01   12.600    1.337e-03\n",
              "7   1.965   66.036   5.827e-09  ...   7.360e-01   19.834    1.154e-04\n",
              "8   3.598   53.338   4.814e-08  ...   9.961e-06   21.177    7.659e-05\n",
              "\n",
              "[9 rows x 13 columns]"
            ]
          },
          "metadata": {
            "tags": []
          },
          "execution_count": 11
        }
      ]
    },
    {
      "cell_type": "code",
      "metadata": {
        "id": "oONsGkaw8K7C"
      },
      "source": [
        "def ResultShapiro(p_value):\n",
        "  if p_value > 0.05:\n",
        "    return \"Yes\"\n",
        "  else:\n",
        "    return 'No'\n",
        "\n",
        "def ResultLB(p_value):\n",
        "  if p_value > 0.05:\n",
        "    return \"Yes\"\n",
        "  else:\n",
        "    return 'No'\n",
        "\n",
        "def ResultBP(p_value):\n",
        "  if p_value > 0.05:\n",
        "    return \"Yes\"\n",
        "  else:\n",
        "    return 'No'"
      ],
      "execution_count": null,
      "outputs": []
    },
    {
      "cell_type": "code",
      "metadata": {
        "id": "xrDVWLxU4rfz"
      },
      "source": [
        "results['Normality'] = results['p_value(Shapiro)'].apply(lambda x: ResultShapiro(x))\n",
        "results['Autocor'] = results['p_value(Q)'].apply(lambda x: ResultLB(x))\n",
        "results['Het'] = results['p_value(BP)'].apply(lambda x: ResultBP(x))"
      ],
      "execution_count": null,
      "outputs": []
    },
    {
      "cell_type": "code",
      "metadata": {
        "id": "3401gVuA64dv",
        "outputId": "78fb4d83-7f0b-4be6-c608-dc25686f4643",
        "colab": {
          "base_uri": "https://localhost:8080/",
          "height": 325
        }
      },
      "source": [
        "results.iloc[:,-3::]"
      ],
      "execution_count": null,
      "outputs": [
        {
          "output_type": "execute_result",
          "data": {
            "text/html": [
              "<div>\n",
              "<style scoped>\n",
              "    .dataframe tbody tr th:only-of-type {\n",
              "        vertical-align: middle;\n",
              "    }\n",
              "\n",
              "    .dataframe tbody tr th {\n",
              "        vertical-align: top;\n",
              "    }\n",
              "\n",
              "    .dataframe thead th {\n",
              "        text-align: right;\n",
              "    }\n",
              "</style>\n",
              "<table border=\"1\" class=\"dataframe\">\n",
              "  <thead>\n",
              "    <tr style=\"text-align: right;\">\n",
              "      <th></th>\n",
              "      <th>Normality</th>\n",
              "      <th>Autocor</th>\n",
              "      <th>Het</th>\n",
              "    </tr>\n",
              "  </thead>\n",
              "  <tbody>\n",
              "    <tr>\n",
              "      <th>0</th>\n",
              "      <td>No</td>\n",
              "      <td>Yes</td>\n",
              "      <td>No</td>\n",
              "    </tr>\n",
              "    <tr>\n",
              "      <th>1</th>\n",
              "      <td>Yes</td>\n",
              "      <td>Yes</td>\n",
              "      <td>No</td>\n",
              "    </tr>\n",
              "    <tr>\n",
              "      <th>2</th>\n",
              "      <td>No</td>\n",
              "      <td>Yes</td>\n",
              "      <td>No</td>\n",
              "    </tr>\n",
              "    <tr>\n",
              "      <th>3</th>\n",
              "      <td>Yes</td>\n",
              "      <td>No</td>\n",
              "      <td>Yes</td>\n",
              "    </tr>\n",
              "    <tr>\n",
              "      <th>4</th>\n",
              "      <td>No</td>\n",
              "      <td>Yes</td>\n",
              "      <td>No</td>\n",
              "    </tr>\n",
              "    <tr>\n",
              "      <th>5</th>\n",
              "      <td>Yes</td>\n",
              "      <td>Yes</td>\n",
              "      <td>No</td>\n",
              "    </tr>\n",
              "    <tr>\n",
              "      <th>6</th>\n",
              "      <td>No</td>\n",
              "      <td>Yes</td>\n",
              "      <td>No</td>\n",
              "    </tr>\n",
              "    <tr>\n",
              "      <th>7</th>\n",
              "      <td>No</td>\n",
              "      <td>Yes</td>\n",
              "      <td>No</td>\n",
              "    </tr>\n",
              "    <tr>\n",
              "      <th>8</th>\n",
              "      <td>No</td>\n",
              "      <td>No</td>\n",
              "      <td>No</td>\n",
              "    </tr>\n",
              "  </tbody>\n",
              "</table>\n",
              "</div>"
            ],
            "text/plain": [
              "  Normality Autocor  Het\n",
              "0        No     Yes   No\n",
              "1       Yes     Yes   No\n",
              "2        No     Yes   No\n",
              "3       Yes      No  Yes\n",
              "4        No     Yes   No\n",
              "5       Yes     Yes   No\n",
              "6        No     Yes   No\n",
              "7        No     Yes   No\n",
              "8        No      No   No"
            ]
          },
          "metadata": {
            "tags": []
          },
          "execution_count": 14
        }
      ]
    },
    {
      "cell_type": "markdown",
      "metadata": {
        "id": "9HxAENG8Ehp8"
      },
      "source": [
        "Пусть уровень значимости 5%\n",
        "\n",
        "Коэффициенты во всех регрессиях значимы\n",
        "\n",
        "Остатки не нормальные для большинства моделей, но для такой небольшой выборки это нормально\n",
        "\n",
        "Присутствует автокорреляция\n",
        "\n",
        "Автокорреляция не смещает оценки и не делает их не состоятельными, можно использовать HAC для оценки ковариационной матрицы оценок, которая дает эффективные оценки в условиях автокорреляции и гетероскедастичности\n",
        "\n",
        "[cov_type='HAC' в фит регрессии]\n"
      ]
    },
    {
      "cell_type": "markdown",
      "metadata": {
        "id": "dIN9KXVJHTQZ"
      },
      "source": [
        "Коэффиицент при единственном регрессоре значим (5%), так что можно говорить о статистически значимой линейной положительной взаимосвязи между конверсией и отношением кликов к посещениям. Получается, чем больше искомое отношение, тем выше конверсия (значит процент посещений, окончившихся транзакцией). Это разумеется положительно влияет на выручку."
      ]
    },
    {
      "cell_type": "code",
      "metadata": {
        "id": "d-9qqcnSU7SA",
        "outputId": "b0646bb1-9cd2-4c4b-d099-9cbec2e5708b",
        "colab": {
          "base_uri": "https://localhost:8080/",
          "height": 289
        }
      },
      "source": [
        "df_all = xl.parse('Sheet2')\n",
        "df_all.head(5)"
      ],
      "execution_count": null,
      "outputs": [
        {
          "output_type": "execute_result",
          "data": {
            "text/html": [
              "<div>\n",
              "<style scoped>\n",
              "    .dataframe tbody tr th:only-of-type {\n",
              "        vertical-align: middle;\n",
              "    }\n",
              "\n",
              "    .dataframe tbody tr th {\n",
              "        vertical-align: top;\n",
              "    }\n",
              "\n",
              "    .dataframe thead th {\n",
              "        text-align: right;\n",
              "    }\n",
              "</style>\n",
              "<table border=\"1\" class=\"dataframe\">\n",
              "  <thead>\n",
              "    <tr style=\"text-align: right;\">\n",
              "      <th></th>\n",
              "      <th>id</th>\n",
              "      <th>shop</th>\n",
              "      <th>t</th>\n",
              "      <th>Footfall</th>\n",
              "      <th>Transactions</th>\n",
              "      <th>Concat</th>\n",
              "      <th>Clicks</th>\n",
              "      <th>Clicks&gt;0</th>\n",
              "      <th>Conversion</th>\n",
              "      <th>Cl/Footfall</th>\n",
              "    </tr>\n",
              "  </thead>\n",
              "  <tbody>\n",
              "    <tr>\n",
              "      <th>0</th>\n",
              "      <td>3287</td>\n",
              "      <td>Edinburgh Princes St</td>\n",
              "      <td>44066</td>\n",
              "      <td>311</td>\n",
              "      <td>174</td>\n",
              "      <td>440663287</td>\n",
              "      <td>57</td>\n",
              "      <td>1</td>\n",
              "      <td>0.559</td>\n",
              "      <td>0.183</td>\n",
              "    </tr>\n",
              "    <tr>\n",
              "      <th>1</th>\n",
              "      <td>3287</td>\n",
              "      <td>Edinburgh Princes St</td>\n",
              "      <td>44067</td>\n",
              "      <td>409</td>\n",
              "      <td>246</td>\n",
              "      <td>440673287</td>\n",
              "      <td>71</td>\n",
              "      <td>1</td>\n",
              "      <td>0.601</td>\n",
              "      <td>0.174</td>\n",
              "    </tr>\n",
              "    <tr>\n",
              "      <th>2</th>\n",
              "      <td>3287</td>\n",
              "      <td>Edinburgh Princes St</td>\n",
              "      <td>44068</td>\n",
              "      <td>207</td>\n",
              "      <td>124</td>\n",
              "      <td>440683287</td>\n",
              "      <td>207</td>\n",
              "      <td>1</td>\n",
              "      <td>0.599</td>\n",
              "      <td>1.000</td>\n",
              "    </tr>\n",
              "    <tr>\n",
              "      <th>3</th>\n",
              "      <td>3287</td>\n",
              "      <td>Edinburgh Princes St</td>\n",
              "      <td>44069</td>\n",
              "      <td>381</td>\n",
              "      <td>216</td>\n",
              "      <td>440693287</td>\n",
              "      <td>91</td>\n",
              "      <td>1</td>\n",
              "      <td>0.567</td>\n",
              "      <td>0.239</td>\n",
              "    </tr>\n",
              "    <tr>\n",
              "      <th>4</th>\n",
              "      <td>3287</td>\n",
              "      <td>Edinburgh Princes St</td>\n",
              "      <td>44070</td>\n",
              "      <td>344</td>\n",
              "      <td>210</td>\n",
              "      <td>440703287</td>\n",
              "      <td>130</td>\n",
              "      <td>1</td>\n",
              "      <td>0.610</td>\n",
              "      <td>0.378</td>\n",
              "    </tr>\n",
              "  </tbody>\n",
              "</table>\n",
              "</div>"
            ],
            "text/plain": [
              "     id                  shop      t  ...  Clicks>0  Conversion  Cl/Footfall\n",
              "0  3287  Edinburgh Princes St  44066  ...         1       0.559        0.183\n",
              "1  3287  Edinburgh Princes St  44067  ...         1       0.601        0.174\n",
              "2  3287  Edinburgh Princes St  44068  ...         1       0.599        1.000\n",
              "3  3287  Edinburgh Princes St  44069  ...         1       0.567        0.239\n",
              "4  3287  Edinburgh Princes St  44070  ...         1       0.610        0.378\n",
              "\n",
              "[5 rows x 10 columns]"
            ]
          },
          "metadata": {
            "tags": []
          },
          "execution_count": 15
        }
      ]
    },
    {
      "cell_type": "markdown",
      "metadata": {
        "id": "pq47DLIyGNe3"
      },
      "source": [
        "Построим Pooled модель для всех магазинов, то есть не учитывая индивидуальные эффекты каждого магазина."
      ]
    },
    {
      "cell_type": "code",
      "metadata": {
        "id": "3LG0BVDmXNw6"
      },
      "source": [
        "pooled = sm.OLS(np.array(df_all['Conversion']), np.array(df_all['Cl/Footfall']))\n",
        "res_pooled = pooled.fit()"
      ],
      "execution_count": null,
      "outputs": []
    },
    {
      "cell_type": "code",
      "metadata": {
        "id": "ghauBXQZGIJT",
        "outputId": "b271343c-3497-465f-b321-fafef1be3bb7",
        "colab": {
          "base_uri": "https://localhost:8080/",
          "height": 433
        }
      },
      "source": [
        "print(res_pooled.summary())"
      ],
      "execution_count": null,
      "outputs": [
        {
          "output_type": "stream",
          "text": [
            "                                 OLS Regression Results                                \n",
            "=======================================================================================\n",
            "Dep. Variable:                      y   R-squared (uncentered):                   0.582\n",
            "Model:                            OLS   Adj. R-squared (uncentered):              0.580\n",
            "Method:                 Least Squares   F-statistic:                              374.1\n",
            "Date:                Thu, 22 Oct 2020   Prob (F-statistic):                    7.77e-53\n",
            "Time:                        04:41:44   Log-Likelihood:                         -148.75\n",
            "No. Observations:                 270   AIC:                                      299.5\n",
            "Df Residuals:                     269   BIC:                                      303.1\n",
            "Df Model:                           1                                                  \n",
            "Covariance Type:            nonrobust                                                  \n",
            "==============================================================================\n",
            "                 coef    std err          t      P>|t|      [0.025      0.975]\n",
            "------------------------------------------------------------------------------\n",
            "x1             2.0042      0.104     19.342      0.000       1.800       2.208\n",
            "==============================================================================\n",
            "Omnibus:                      105.867   Durbin-Watson:                   0.764\n",
            "Prob(Omnibus):                  0.000   Jarque-Bera (JB):              351.486\n",
            "Skew:                          -1.710   Prob(JB):                     4.74e-77\n",
            "Kurtosis:                       7.422   Cond. No.                         1.00\n",
            "==============================================================================\n",
            "\n",
            "Warnings:\n",
            "[1] Standard Errors assume that the covariance matrix of the errors is correctly specified.\n"
          ],
          "name": "stdout"
        }
      ]
    },
    {
      "cell_type": "code",
      "metadata": {
        "id": "vo7zeLXjGwbu",
        "outputId": "e1eb4eeb-337d-4d07-9fd7-736955800470",
        "colab": {
          "base_uri": "https://localhost:8080/",
          "height": 35
        }
      },
      "source": [
        "# Нормальность остатков (Тест Шапиро-Уилка)\n",
        "shapiro(res_pooled.resid)"
      ],
      "execution_count": null,
      "outputs": [
        {
          "output_type": "execute_result",
          "data": {
            "text/plain": [
              "(0.8732021450996399, 3.69786361633425e-14)"
            ]
          },
          "metadata": {
            "tags": []
          },
          "execution_count": 18
        }
      ]
    },
    {
      "cell_type": "code",
      "metadata": {
        "id": "aJceTsvKIX0O"
      },
      "source": [
        "# Остатки не нормальные"
      ],
      "execution_count": null,
      "outputs": []
    },
    {
      "cell_type": "code",
      "metadata": {
        "id": "kfnI5mfZItSl",
        "outputId": "e5c510de-dac7-4b6f-ec03-ebe9ae62fc40",
        "colab": {
          "base_uri": "https://localhost:8080/",
          "height": 35
        }
      },
      "source": [
        "# Автокорреляция остатков\n",
        "sm.stats.acorr_ljungbox(res_pooled.resid, lags=[10])[0][0], sm.stats.acorr_ljungbox(res_pooled.resid, lags=[10])[1][0]\n"
      ],
      "execution_count": null,
      "outputs": [
        {
          "output_type": "execute_result",
          "data": {
            "text/plain": [
              "(160.70618070003417, 2.3162280326414992e-29)"
            ]
          },
          "metadata": {
            "tags": []
          },
          "execution_count": 20
        }
      ]
    },
    {
      "cell_type": "code",
      "metadata": {
        "id": "B_ZWorR3I_N5",
        "outputId": "ef8584a6-bf13-42b3-af8a-cc73f3def361",
        "colab": {
          "base_uri": "https://localhost:8080/",
          "height": 281
        }
      },
      "source": [
        "# В остатках присутствует автокорреляция\n",
        "# Также можно увидеть на графиках ACF и PACF\n",
        "sm.graphics.tsa.plot_acf(res_pooled.resid.squeeze(), lags=25)\n",
        "plt.show()"
      ],
      "execution_count": null,
      "outputs": [
        {
          "output_type": "display_data",
          "data": {
            "image/png": "[encoded data removed]",
            "text/plain": [
              "<Figure size 432x288 with 1 Axes>"
            ]
          },
          "metadata": {
            "tags": [],
            "needs_background": "light"
          }
        }
      ]
    },
    {
      "cell_type": "code",
      "metadata": {
        "id": "66uu6D9xJsFs",
        "outputId": "03072888-64df-413c-a1a2-0dfc301ad3c1",
        "colab": {
          "base_uri": "https://localhost:8080/",
          "height": 281
        }
      },
      "source": [
        "sm.graphics.tsa.plot_pacf(res_pooled.resid, lags=25)\n",
        "plt.show()"
      ],
      "execution_count": null,
      "outputs": [
        {
          "output_type": "display_data",
          "data": {
            "image/png": "[encoded data removed]",
            "text/plain": [
              "<Figure size 432x288 with 1 Axes>"
            ]
          },
          "metadata": {
            "tags": [],
            "needs_background": "light"
          }
        }
      ]
    },
    {
      "cell_type": "code",
      "metadata": {
        "id": "Hsj9w0eDRvuR",
        "outputId": "12fa0ebd-2c3c-4e09-9f36-91c2aca83fe9",
        "colab": {
          "base_uri": "https://localhost:8080/",
          "height": 52
        }
      },
      "source": [
        "print(sm.stats.diagnostic.het_breuschpagan(res_pooled.resid, res_pooled.model.exog)[2])\n",
        "print(sm.stats.diagnostic.het_breuschpagan(res_pooled.resid, res_pooled.model.exog)[3])"
      ],
      "execution_count": null,
      "outputs": [
        {
          "output_type": "stream",
          "text": [
            "116.04467086011759\n",
            "9.8605350780821e-23\n"
          ],
          "name": "stdout"
        }
      ]
    },
    {
      "cell_type": "code",
      "metadata": {
        "id": "5GLpjQT4SGPq"
      },
      "source": [
        "# Нулевая гипотеза о гомоскедастичности остатков отвергается, в данных есть проблема гетероскедастичности"
      ],
      "execution_count": null,
      "outputs": []
    },
    {
      "cell_type": "code",
      "metadata": {
        "id": "ownueOPQSg8e"
      },
      "source": [
        "res_pooled_hac = pooled.fit(cov_type='HAC', cov_kwds={'maxlags':1})"
      ],
      "execution_count": null,
      "outputs": []
    },
    {
      "cell_type": "code",
      "metadata": {
        "id": "OGOBYIC5SnJ9",
        "outputId": "fa25fa8f-ee86-4212-8171-fe434bcb7515",
        "colab": {
          "base_uri": "https://localhost:8080/",
          "height": 453
        }
      },
      "source": [
        "print(res_pooled_hac.summary())"
      ],
      "execution_count": null,
      "outputs": [
        {
          "output_type": "stream",
          "text": [
            "                                 OLS Regression Results                                \n",
            "=======================================================================================\n",
            "Dep. Variable:                      y   R-squared (uncentered):                   0.582\n",
            "Model:                            OLS   Adj. R-squared (uncentered):              0.580\n",
            "Method:                 Least Squares   F-statistic:                              178.9\n",
            "Date:                Thu, 22 Oct 2020   Prob (F-statistic):                    1.25e-31\n",
            "Time:                        04:41:45   Log-Likelihood:                         -148.75\n",
            "No. Observations:                 270   AIC:                                      299.5\n",
            "Df Residuals:                     269   BIC:                                      303.1\n",
            "Df Model:                           1                                                  \n",
            "Covariance Type:                  HAC                                                  \n",
            "==============================================================================\n",
            "                 coef    std err          z      P>|z|      [0.025      0.975]\n",
            "------------------------------------------------------------------------------\n",
            "x1             2.0042      0.150     13.376      0.000       1.711       2.298\n",
            "==============================================================================\n",
            "Omnibus:                      105.867   Durbin-Watson:                   0.764\n",
            "Prob(Omnibus):                  0.000   Jarque-Bera (JB):              351.486\n",
            "Skew:                          -1.710   Prob(JB):                     4.74e-77\n",
            "Kurtosis:                       7.422   Cond. No.                         1.00\n",
            "==============================================================================\n",
            "\n",
            "Warnings:\n",
            "[1] Standard Errors are heteroscedasticity and autocorrelation robust (HAC) using 1 lags and without small sample correction\n"
          ],
          "name": "stdout"
        }
      ]
    },
    {
      "cell_type": "markdown",
      "metadata": {
        "id": "UmCnMjIqJiKK"
      },
      "source": [
        "Кроме Pooled модели можно попробовать построить модель Fixed Effects (FE) Model, Random Effects (RE) Model, Between Effects (BE) model."
      ]
    },
    {
      "cell_type": "code",
      "metadata": {
        "id": "mae7qYGCUzmn",
        "outputId": "73087a4b-e18c-40a3-ce33-0c2b4f435c60",
        "colab": {
          "base_uri": "https://localhost:8080/",
          "height": 245
        }
      },
      "source": [
        "!pip install linearmodels"
      ],
      "execution_count": null,
      "outputs": [
        {
          "output_type": "stream",
          "text": [
            "Requirement already satisfied: linearmodels in /usr/local/lib/python3.6/dist-packages (4.17)\n",
            "Requirement already satisfied: statsmodels>=0.9 in /usr/local/lib/python3.6/dist-packages (from linearmodels) (0.10.2)\n",
            "Requirement already satisfied: mypy-extensions>=0.4 in /usr/local/lib/python3.6/dist-packages (from linearmodels) (0.4.3)\n",
            "Requirement already satisfied: property-cached>=1.6.3 in /usr/local/lib/python3.6/dist-packages (from linearmodels) (1.6.4)\n",
            "Requirement already satisfied: numpy>=1.15 in /usr/local/lib/python3.6/dist-packages (from linearmodels) (1.18.5)\n",
            "Requirement already satisfied: Cython>=0.29.14 in /usr/local/lib/python3.6/dist-packages (from linearmodels) (0.29.21)\n",
            "Requirement already satisfied: patsy in /usr/local/lib/python3.6/dist-packages (from linearmodels) (0.5.1)\n",
            "Requirement already satisfied: pandas>=0.23 in /usr/local/lib/python3.6/dist-packages (from linearmodels) (1.1.2)\n",
            "Requirement already satisfied: scipy>=1 in /usr/local/lib/python3.6/dist-packages (from linearmodels) (1.4.1)\n",
            "Requirement already satisfied: six in /usr/local/lib/python3.6/dist-packages (from patsy->linearmodels) (1.15.0)\n",
            "Requirement already satisfied: python-dateutil>=2.7.3 in /usr/local/lib/python3.6/dist-packages (from pandas>=0.23->linearmodels) (2.8.1)\n",
            "Requirement already satisfied: pytz>=2017.2 in /usr/local/lib/python3.6/dist-packages (from pandas>=0.23->linearmodels) (2018.9)\n"
          ],
          "name": "stdout"
        }
      ]
    },
    {
      "cell_type": "code",
      "metadata": {
        "id": "UXyujnzgDdEa"
      },
      "source": [
        "from linearmodels import PanelOLS\n",
        "from linearmodels import RandomEffects\n",
        "from linearmodels import BetweenOLS"
      ],
      "execution_count": null,
      "outputs": []
    },
    {
      "cell_type": "code",
      "metadata": {
        "id": "GXn6ArJ-VDat"
      },
      "source": [
        "df_all = df_all.set_index(['id', 't'])"
      ],
      "execution_count": null,
      "outputs": []
    },
    {
      "cell_type": "code",
      "metadata": {
        "id": "jU24o7r9ZDO5",
        "outputId": "831bcb6f-d75b-4c3f-a2ff-039fc1c8b9f0",
        "colab": {
          "base_uri": "https://localhost:8080/",
          "height": 446
        }
      },
      "source": [
        "df_all"
      ],
      "execution_count": null,
      "outputs": [
        {
          "output_type": "execute_result",
          "data": {
            "text/html": [
              "<div>\n",
              "<style scoped>\n",
              "    .dataframe tbody tr th:only-of-type {\n",
              "        vertical-align: middle;\n",
              "    }\n",
              "\n",
              "    .dataframe tbody tr th {\n",
              "        vertical-align: top;\n",
              "    }\n",
              "\n",
              "    .dataframe thead th {\n",
              "        text-align: right;\n",
              "    }\n",
              "</style>\n",
              "<table border=\"1\" class=\"dataframe\">\n",
              "  <thead>\n",
              "    <tr style=\"text-align: right;\">\n",
              "      <th></th>\n",
              "      <th></th>\n",
              "      <th>shop</th>\n",
              "      <th>Footfall</th>\n",
              "      <th>Transactions</th>\n",
              "      <th>Concat</th>\n",
              "      <th>Clicks</th>\n",
              "      <th>Clicks&gt;0</th>\n",
              "      <th>Conversion</th>\n",
              "      <th>Cl/Footfall</th>\n",
              "    </tr>\n",
              "    <tr>\n",
              "      <th>id</th>\n",
              "      <th>t</th>\n",
              "      <th></th>\n",
              "      <th></th>\n",
              "      <th></th>\n",
              "      <th></th>\n",
              "      <th></th>\n",
              "      <th></th>\n",
              "      <th></th>\n",
              "      <th></th>\n",
              "    </tr>\n",
              "  </thead>\n",
              "  <tbody>\n",
              "    <tr>\n",
              "      <th rowspan=\"5\" valign=\"top\">3287</th>\n",
              "      <th>44066</th>\n",
              "      <td>Edinburgh Princes St</td>\n",
              "      <td>311</td>\n",
              "      <td>174</td>\n",
              "      <td>440663287</td>\n",
              "      <td>57</td>\n",
              "      <td>1</td>\n",
              "      <td>0.559</td>\n",
              "      <td>0.183</td>\n",
              "    </tr>\n",
              "    <tr>\n",
              "      <th>44067</th>\n",
              "      <td>Edinburgh Princes St</td>\n",
              "      <td>409</td>\n",
              "      <td>246</td>\n",
              "      <td>440673287</td>\n",
              "      <td>71</td>\n",
              "      <td>1</td>\n",
              "      <td>0.601</td>\n",
              "      <td>0.174</td>\n",
              "    </tr>\n",
              "    <tr>\n",
              "      <th>44068</th>\n",
              "      <td>Edinburgh Princes St</td>\n",
              "      <td>207</td>\n",
              "      <td>124</td>\n",
              "      <td>440683287</td>\n",
              "      <td>207</td>\n",
              "      <td>1</td>\n",
              "      <td>0.599</td>\n",
              "      <td>1.000</td>\n",
              "    </tr>\n",
              "    <tr>\n",
              "      <th>44069</th>\n",
              "      <td>Edinburgh Princes St</td>\n",
              "      <td>381</td>\n",
              "      <td>216</td>\n",
              "      <td>440693287</td>\n",
              "      <td>91</td>\n",
              "      <td>1</td>\n",
              "      <td>0.567</td>\n",
              "      <td>0.239</td>\n",
              "    </tr>\n",
              "    <tr>\n",
              "      <th>44070</th>\n",
              "      <td>Edinburgh Princes St</td>\n",
              "      <td>344</td>\n",
              "      <td>210</td>\n",
              "      <td>440703287</td>\n",
              "      <td>130</td>\n",
              "      <td>1</td>\n",
              "      <td>0.610</td>\n",
              "      <td>0.378</td>\n",
              "    </tr>\n",
              "    <tr>\n",
              "      <th>...</th>\n",
              "      <th>...</th>\n",
              "      <td>...</td>\n",
              "      <td>...</td>\n",
              "      <td>...</td>\n",
              "      <td>...</td>\n",
              "      <td>...</td>\n",
              "      <td>...</td>\n",
              "      <td>...</td>\n",
              "      <td>...</td>\n",
              "    </tr>\n",
              "    <tr>\n",
              "      <th rowspan=\"5\" valign=\"top\">3228</th>\n",
              "      <th>44091</th>\n",
              "      <td>Chelmsford</td>\n",
              "      <td>361</td>\n",
              "      <td>288</td>\n",
              "      <td>440913228</td>\n",
              "      <td>76</td>\n",
              "      <td>1</td>\n",
              "      <td>0.798</td>\n",
              "      <td>0.211</td>\n",
              "    </tr>\n",
              "    <tr>\n",
              "      <th>44092</th>\n",
              "      <td>Chelmsford</td>\n",
              "      <td>499</td>\n",
              "      <td>282</td>\n",
              "      <td>440923228</td>\n",
              "      <td>154</td>\n",
              "      <td>1</td>\n",
              "      <td>0.565</td>\n",
              "      <td>0.309</td>\n",
              "    </tr>\n",
              "    <tr>\n",
              "      <th>44093</th>\n",
              "      <td>Chelmsford</td>\n",
              "      <td>664</td>\n",
              "      <td>389</td>\n",
              "      <td>440933228</td>\n",
              "      <td>83</td>\n",
              "      <td>1</td>\n",
              "      <td>0.586</td>\n",
              "      <td>0.125</td>\n",
              "    </tr>\n",
              "    <tr>\n",
              "      <th>44094</th>\n",
              "      <td>Chelmsford</td>\n",
              "      <td>408</td>\n",
              "      <td>206</td>\n",
              "      <td>440943228</td>\n",
              "      <td>103</td>\n",
              "      <td>1</td>\n",
              "      <td>0.505</td>\n",
              "      <td>0.252</td>\n",
              "    </tr>\n",
              "    <tr>\n",
              "      <th>44095</th>\n",
              "      <td>Chelmsford</td>\n",
              "      <td>469</td>\n",
              "      <td>282</td>\n",
              "      <td>440953228</td>\n",
              "      <td>0</td>\n",
              "      <td>0</td>\n",
              "      <td>0.601</td>\n",
              "      <td>0.206</td>\n",
              "    </tr>\n",
              "  </tbody>\n",
              "</table>\n",
              "<p>270 rows × 8 columns</p>\n",
              "</div>"
            ],
            "text/plain": [
              "                            shop  Footfall  ...  Conversion  Cl/Footfall\n",
              "id   t                                      ...                         \n",
              "3287 44066  Edinburgh Princes St       311  ...       0.559        0.183\n",
              "     44067  Edinburgh Princes St       409  ...       0.601        0.174\n",
              "     44068  Edinburgh Princes St       207  ...       0.599        1.000\n",
              "     44069  Edinburgh Princes St       381  ...       0.567        0.239\n",
              "     44070  Edinburgh Princes St       344  ...       0.610        0.378\n",
              "...                          ...       ...  ...         ...          ...\n",
              "3228 44091            Chelmsford       361  ...       0.798        0.211\n",
              "     44092            Chelmsford       499  ...       0.565        0.309\n",
              "     44093            Chelmsford       664  ...       0.586        0.125\n",
              "     44094            Chelmsford       408  ...       0.505        0.252\n",
              "     44095            Chelmsford       469  ...       0.601        0.206\n",
              "\n",
              "[270 rows x 8 columns]"
            ]
          },
          "metadata": {
            "tags": []
          },
          "execution_count": 30
        }
      ]
    },
    {
      "cell_type": "code",
      "metadata": {
        "id": "Sl-M0yFSZT0J",
        "outputId": "0d24c1e7-fddf-4de3-8310-49378d978448",
        "colab": {
          "base_uri": "https://localhost:8080/",
          "height": 609
        }
      },
      "source": [
        "fe = PanelOLS(df_all['Conversion'], df_all['Cl/Footfall'], entity_effects = True)\n",
        "fe_res = fe.fit()\n",
        "print(fe_res.summary)"
      ],
      "execution_count": null,
      "outputs": [
        {
          "output_type": "stream",
          "text": [
            "                          PanelOLS Estimation Summary                           \n",
            "================================================================================\n",
            "Dep. Variable:             Conversion   R-squared:                        0.0100\n",
            "Estimator:                   PanelOLS   R-squared (Between):              0.0294\n",
            "No. Observations:                 270   R-squared (Within):               0.0100\n",
            "Date:                Thu, Oct 22 2020   R-squared (Overall):              0.0291\n",
            "Time:                        04:41:47   Log-likelihood                    325.59\n",
            "Cov. Estimator:            Unadjusted                                           \n",
            "                                        F-statistic:                      2.6218\n",
            "Entities:                           9   P-value                           0.1066\n",
            "Avg Obs:                       30.000   Distribution:                   F(1,260)\n",
            "Min Obs:                       30.000                                           \n",
            "Max Obs:                       30.000   F-statistic (robust):             2.6218\n",
            "                                        P-value                           0.1066\n",
            "Time periods:                      30   Distribution:                   F(1,260)\n",
            "Avg Obs:                       9.0000                                           \n",
            "Min Obs:                       9.0000                                           \n",
            "Max Obs:                       9.0000                                           \n",
            "                                                                                \n",
            "                              Parameter Estimates                              \n",
            "===============================================================================\n",
            "             Parameter  Std. Err.     T-stat    P-value    Lower CI    Upper CI\n",
            "-------------------------------------------------------------------------------\n",
            "Cl/Footfall     0.0508     0.0314     1.6192     0.1066     -0.0110      0.1126\n",
            "===============================================================================\n",
            "\n",
            "F-test for Poolability: 17.393\n",
            "P-value: 0.0000\n",
            "Distribution: F(8,260)\n",
            "\n",
            "Included effects: Entity\n"
          ],
          "name": "stdout"
        },
        {
          "output_type": "stream",
          "text": [
            "/usr/local/lib/python3.6/dist-packages/linearmodels/panel/data.py:98: FutureWarning: is_categorical is deprecated and will be removed in a future version.  Use is_categorical_dtype instead\n",
            "  if is_categorical(s):\n"
          ],
          "name": "stderr"
        }
      ]
    },
    {
      "cell_type": "markdown",
      "metadata": {
        "id": "sp9e9NvXcQwm"
      },
      "source": [
        "FE - модель, оценивающие межвременные различия объектов из выборки. Качество подгонки модели FE оценивается с помощью R^2 within. Это значение очень низкое, кроме этого модель не значима для уровня 5% и для 10% тоже. Поэтому, несмотря на значимость индивидуальных эффектов, такая модель не подходит."
      ]
    },
    {
      "cell_type": "code",
      "metadata": {
        "id": "xIZVKx4jHEB7",
        "outputId": "9859ecc6-b8b9-4f21-eea3-872cb09a8218",
        "colab": {
          "base_uri": "https://localhost:8080/",
          "height": 505
        }
      },
      "source": [
        "be = BetweenOLS(df_all['Conversion'], df_all['Cl/Footfall'])\n",
        "be_res = be.fit()\n",
        "print(be_res.summary)"
      ],
      "execution_count": null,
      "outputs": [
        {
          "output_type": "stream",
          "text": [
            "                         BetweenOLS Estimation Summary                          \n",
            "================================================================================\n",
            "Dep. Variable:             Conversion   R-squared:                        0.8720\n",
            "Estimator:                 BetweenOLS   R-squared (Between):              0.8720\n",
            "No. Observations:                   9   R-squared (Within):              -33.418\n",
            "Date:                Thu, Oct 22 2020   R-squared (Overall):              0.4404\n",
            "Time:                        04:41:48   Log-likelihood                    0.4271\n",
            "Cov. Estimator:            Unadjusted                                           \n",
            "                                        F-statistic:                      54.498\n",
            "Entities:                           9   P-value                           0.0001\n",
            "Avg Obs:                       30.000   Distribution:                     F(1,8)\n",
            "Min Obs:                       30.000                                           \n",
            "Max Obs:                       30.000   F-statistic (robust):             54.498\n",
            "                                        P-value                           0.0001\n",
            "Time periods:                      30   Distribution:                     F(1,8)\n",
            "Avg Obs:                       9.0000                                           \n",
            "Min Obs:                       9.0000                                           \n",
            "Max Obs:                       9.0000                                           \n",
            "                                                                                \n",
            "                              Parameter Estimates                              \n",
            "===============================================================================\n",
            "             Parameter  Std. Err.     T-stat    P-value    Lower CI    Upper CI\n",
            "-------------------------------------------------------------------------------\n",
            "Cl/Footfall     2.9920     0.4053     7.3823     0.0001      2.0574      3.9266\n",
            "===============================================================================\n"
          ],
          "name": "stdout"
        },
        {
          "output_type": "stream",
          "text": [
            "/usr/local/lib/python3.6/dist-packages/linearmodels/panel/data.py:98: FutureWarning: is_categorical is deprecated and will be removed in a future version.  Use is_categorical_dtype instead\n",
            "  if is_categorical(s):\n"
          ],
          "name": "stderr"
        }
      ]
    },
    {
      "cell_type": "markdown",
      "metadata": {
        "id": "HjpKv6f5cjzX"
      },
      "source": [
        "BE - это модель, оценивающая межгрупповые различия между объектами (магазинами). Качество подгонки модели BE оценивается с помощью R^2 between. Как мы видим его значение довольно высокое (0.872)."
      ]
    },
    {
      "cell_type": "markdown",
      "metadata": {
        "id": "Wvsfl4nGgXFQ"
      },
      "source": [
        "BE отвечает на вопрос как сильно различается конверсия для магазинов с разными значениями отношения клики/трафик.\n",
        "FE модель отвечает на вопрос как сильно увеличится конверсия для магазина при изменении показателя клики/трафик в данном магазине."
      ]
    },
    {
      "cell_type": "code",
      "metadata": {
        "id": "RnsV6DNoXeuu",
        "outputId": "3582d439-c661-4467-c6b4-54a054e8f500",
        "colab": {
          "base_uri": "https://localhost:8080/",
          "height": 505
        }
      },
      "source": [
        "re = RandomEffects(df_all['Conversion'], df_all['Cl/Footfall'])\n",
        "re_res = re.fit()\n",
        "print(re_res.summary)"
      ],
      "execution_count": null,
      "outputs": [
        {
          "output_type": "stream",
          "text": [
            "                        RandomEffects Estimation Summary                        \n",
            "================================================================================\n",
            "Dep. Variable:             Conversion   R-squared:                        0.0147\n",
            "Estimator:              RandomEffects   R-squared (Between):              0.0394\n",
            "No. Observations:                 270   R-squared (Within):               0.0088\n",
            "Date:                Thu, Oct 22 2020   R-squared (Overall):              0.0390\n",
            "Time:                        04:41:48   Log-likelihood                    297.51\n",
            "Cov. Estimator:            Unadjusted                                           \n",
            "                                        F-statistic:                      4.0017\n",
            "Entities:                           9   P-value                           0.0465\n",
            "Avg Obs:                       30.000   Distribution:                   F(1,269)\n",
            "Min Obs:                       30.000                                           \n",
            "Max Obs:                       30.000   F-statistic (robust):             4.0017\n",
            "                                        P-value                           0.0465\n",
            "Time periods:                      30   Distribution:                   F(1,269)\n",
            "Avg Obs:                       9.0000                                           \n",
            "Min Obs:                       9.0000                                           \n",
            "Max Obs:                       9.0000                                           \n",
            "                                                                                \n",
            "                              Parameter Estimates                              \n",
            "===============================================================================\n",
            "             Parameter  Std. Err.     T-stat    P-value    Lower CI    Upper CI\n",
            "-------------------------------------------------------------------------------\n",
            "Cl/Footfall     0.0683     0.0341     2.0004     0.0465      0.0011      0.1355\n",
            "===============================================================================\n"
          ],
          "name": "stdout"
        },
        {
          "output_type": "stream",
          "text": [
            "/usr/local/lib/python3.6/dist-packages/linearmodels/panel/data.py:98: FutureWarning: is_categorical is deprecated and will be removed in a future version.  Use is_categorical_dtype instead\n",
            "  if is_categorical(s):\n"
          ],
          "name": "stderr"
        }
      ]
    },
    {
      "cell_type": "markdown",
      "metadata": {
        "id": "IWA62KGk5FPl"
      },
      "source": [
        "RE - модель, учитывающая влияние переменных на временные и межгрупповые эффекты. RE сути, взвешенное среднее FE и BE. Такая модель предполагает, что все переменные имеют одинаковый cross-sectional и time-series эффект. Можно это показать."
      ]
    },
    {
      "cell_type": "code",
      "metadata": {
        "id": "0eN-7guQkg-N",
        "outputId": "6233c22e-9b61-42b8-e3fc-98abef6ce0c6",
        "colab": {
          "base_uri": "https://localhost:8080/",
          "height": 446
        }
      },
      "source": [
        "df_all"
      ],
      "execution_count": null,
      "outputs": [
        {
          "output_type": "execute_result",
          "data": {
            "text/html": [
              "<div>\n",
              "<style scoped>\n",
              "    .dataframe tbody tr th:only-of-type {\n",
              "        vertical-align: middle;\n",
              "    }\n",
              "\n",
              "    .dataframe tbody tr th {\n",
              "        vertical-align: top;\n",
              "    }\n",
              "\n",
              "    .dataframe thead th {\n",
              "        text-align: right;\n",
              "    }\n",
              "</style>\n",
              "<table border=\"1\" class=\"dataframe\">\n",
              "  <thead>\n",
              "    <tr style=\"text-align: right;\">\n",
              "      <th></th>\n",
              "      <th></th>\n",
              "      <th>shop</th>\n",
              "      <th>Footfall</th>\n",
              "      <th>Transactions</th>\n",
              "      <th>Concat</th>\n",
              "      <th>Clicks</th>\n",
              "      <th>Clicks&gt;0</th>\n",
              "      <th>Conversion</th>\n",
              "      <th>Cl/Footfall</th>\n",
              "    </tr>\n",
              "    <tr>\n",
              "      <th>id</th>\n",
              "      <th>t</th>\n",
              "      <th></th>\n",
              "      <th></th>\n",
              "      <th></th>\n",
              "      <th></th>\n",
              "      <th></th>\n",
              "      <th></th>\n",
              "      <th></th>\n",
              "      <th></th>\n",
              "    </tr>\n",
              "  </thead>\n",
              "  <tbody>\n",
              "    <tr>\n",
              "      <th rowspan=\"5\" valign=\"top\">3287</th>\n",
              "      <th>44066</th>\n",
              "      <td>Edinburgh Princes St</td>\n",
              "      <td>311</td>\n",
              "      <td>174</td>\n",
              "      <td>440663287</td>\n",
              "      <td>57</td>\n",
              "      <td>1</td>\n",
              "      <td>0.559</td>\n",
              "      <td>0.183</td>\n",
              "    </tr>\n",
              "    <tr>\n",
              "      <th>44067</th>\n",
              "      <td>Edinburgh Princes St</td>\n",
              "      <td>409</td>\n",
              "      <td>246</td>\n",
              "      <td>440673287</td>\n",
              "      <td>71</td>\n",
              "      <td>1</td>\n",
              "      <td>0.601</td>\n",
              "      <td>0.174</td>\n",
              "    </tr>\n",
              "    <tr>\n",
              "      <th>44068</th>\n",
              "      <td>Edinburgh Princes St</td>\n",
              "      <td>207</td>\n",
              "      <td>124</td>\n",
              "      <td>440683287</td>\n",
              "      <td>207</td>\n",
              "      <td>1</td>\n",
              "      <td>0.599</td>\n",
              "      <td>1.000</td>\n",
              "    </tr>\n",
              "    <tr>\n",
              "      <th>44069</th>\n",
              "      <td>Edinburgh Princes St</td>\n",
              "      <td>381</td>\n",
              "      <td>216</td>\n",
              "      <td>440693287</td>\n",
              "      <td>91</td>\n",
              "      <td>1</td>\n",
              "      <td>0.567</td>\n",
              "      <td>0.239</td>\n",
              "    </tr>\n",
              "    <tr>\n",
              "      <th>44070</th>\n",
              "      <td>Edinburgh Princes St</td>\n",
              "      <td>344</td>\n",
              "      <td>210</td>\n",
              "      <td>440703287</td>\n",
              "      <td>130</td>\n",
              "      <td>1</td>\n",
              "      <td>0.610</td>\n",
              "      <td>0.378</td>\n",
              "    </tr>\n",
              "    <tr>\n",
              "      <th>...</th>\n",
              "      <th>...</th>\n",
              "      <td>...</td>\n",
              "      <td>...</td>\n",
              "      <td>...</td>\n",
              "      <td>...</td>\n",
              "      <td>...</td>\n",
              "      <td>...</td>\n",
              "      <td>...</td>\n",
              "      <td>...</td>\n",
              "    </tr>\n",
              "    <tr>\n",
              "      <th rowspan=\"5\" valign=\"top\">3228</th>\n",
              "      <th>44091</th>\n",
              "      <td>Chelmsford</td>\n",
              "      <td>361</td>\n",
              "      <td>288</td>\n",
              "      <td>440913228</td>\n",
              "      <td>76</td>\n",
              "      <td>1</td>\n",
              "      <td>0.798</td>\n",
              "      <td>0.211</td>\n",
              "    </tr>\n",
              "    <tr>\n",
              "      <th>44092</th>\n",
              "      <td>Chelmsford</td>\n",
              "      <td>499</td>\n",
              "      <td>282</td>\n",
              "      <td>440923228</td>\n",
              "      <td>154</td>\n",
              "      <td>1</td>\n",
              "      <td>0.565</td>\n",
              "      <td>0.309</td>\n",
              "    </tr>\n",
              "    <tr>\n",
              "      <th>44093</th>\n",
              "      <td>Chelmsford</td>\n",
              "      <td>664</td>\n",
              "      <td>389</td>\n",
              "      <td>440933228</td>\n",
              "      <td>83</td>\n",
              "      <td>1</td>\n",
              "      <td>0.586</td>\n",
              "      <td>0.125</td>\n",
              "    </tr>\n",
              "    <tr>\n",
              "      <th>44094</th>\n",
              "      <td>Chelmsford</td>\n",
              "      <td>408</td>\n",
              "      <td>206</td>\n",
              "      <td>440943228</td>\n",
              "      <td>103</td>\n",
              "      <td>1</td>\n",
              "      <td>0.505</td>\n",
              "      <td>0.252</td>\n",
              "    </tr>\n",
              "    <tr>\n",
              "      <th>44095</th>\n",
              "      <td>Chelmsford</td>\n",
              "      <td>469</td>\n",
              "      <td>282</td>\n",
              "      <td>440953228</td>\n",
              "      <td>0</td>\n",
              "      <td>0</td>\n",
              "      <td>0.601</td>\n",
              "      <td>0.206</td>\n",
              "    </tr>\n",
              "  </tbody>\n",
              "</table>\n",
              "<p>270 rows × 8 columns</p>\n",
              "</div>"
            ],
            "text/plain": [
              "                            shop  Footfall  ...  Conversion  Cl/Footfall\n",
              "id   t                                      ...                         \n",
              "3287 44066  Edinburgh Princes St       311  ...       0.559        0.183\n",
              "     44067  Edinburgh Princes St       409  ...       0.601        0.174\n",
              "     44068  Edinburgh Princes St       207  ...       0.599        1.000\n",
              "     44069  Edinburgh Princes St       381  ...       0.567        0.239\n",
              "     44070  Edinburgh Princes St       344  ...       0.610        0.378\n",
              "...                          ...       ...  ...         ...          ...\n",
              "3228 44091            Chelmsford       361  ...       0.798        0.211\n",
              "     44092            Chelmsford       499  ...       0.565        0.309\n",
              "     44093            Chelmsford       664  ...       0.586        0.125\n",
              "     44094            Chelmsford       408  ...       0.505        0.252\n",
              "     44095            Chelmsford       469  ...       0.601        0.206\n",
              "\n",
              "[270 rows x 8 columns]"
            ]
          },
          "metadata": {
            "tags": []
          },
          "execution_count": 34
        }
      ]
    },
    {
      "cell_type": "code",
      "metadata": {
        "id": "7czNgwWrlGuH",
        "outputId": "0519bec6-e485-4578-8ec3-22fe83c713de",
        "colab": {
          "base_uri": "https://localhost:8080/",
          "height": 208
        }
      },
      "source": [
        "mean_on_id = df_all.mean(level='id')['Cl/Footfall']\n",
        "mean_on_id"
      ],
      "execution_count": null,
      "outputs": [
        {
          "output_type": "execute_result",
          "data": {
            "text/plain": [
              "id\n",
              "3287    0.233\n",
              "3085    0.104\n",
              "3647    0.107\n",
              "3042    0.253\n",
              "3743    0.293\n",
              "3312    0.171\n",
              "3494    0.141\n",
              "3270    0.280\n",
              "3228    0.106\n",
              "Name: Cl/Footfall, dtype: float64"
            ]
          },
          "metadata": {
            "tags": []
          },
          "execution_count": 35
        }
      ]
    },
    {
      "cell_type": "code",
      "metadata": {
        "id": "xmqYTDO9ibIV"
      },
      "source": [
        "empty = []\n",
        "for i in range(9):\n",
        "  for j in range(30):\n",
        "    empty.append(mean_on_id.iloc[i])\n",
        "df_all['mean_x'] = empty"
      ],
      "execution_count": null,
      "outputs": []
    },
    {
      "cell_type": "code",
      "metadata": {
        "id": "BidrGvkuljRm"
      },
      "source": [
        "df_all['diff'] = df_all['Cl/Footfall'] - df_all['mean_x']"
      ],
      "execution_count": null,
      "outputs": []
    },
    {
      "cell_type": "code",
      "metadata": {
        "id": "ZkVJtAkolx-u",
        "outputId": "c01603fd-e36e-461e-b960-616d218772b6",
        "colab": {
          "base_uri": "https://localhost:8080/",
          "height": 523
        }
      },
      "source": [
        "re = RandomEffects(df_all['Conversion'], df_all[['mean_x', 'diff']])\n",
        "re_res = re.fit()\n",
        "print(re_res.summary)"
      ],
      "execution_count": null,
      "outputs": [
        {
          "output_type": "stream",
          "text": [
            "/usr/local/lib/python3.6/dist-packages/linearmodels/panel/data.py:98: FutureWarning: is_categorical is deprecated and will be removed in a future version.  Use is_categorical_dtype instead\n",
            "  if is_categorical(s):\n"
          ],
          "name": "stderr"
        },
        {
          "output_type": "stream",
          "text": [
            "                        RandomEffects Estimation Summary                        \n",
            "================================================================================\n",
            "Dep. Variable:             Conversion   R-squared:                        0.1585\n",
            "Estimator:              RandomEffects   R-squared (Between):              0.8720\n",
            "No. Observations:                 270   R-squared (Within):               0.0100\n",
            "Date:                Thu, Oct 22 2020   R-squared (Overall):              0.8611\n",
            "Time:                        04:41:48   Log-likelihood                    322.00\n",
            "Cov. Estimator:            Unadjusted                                           \n",
            "                                        F-statistic:                      25.248\n",
            "Entities:                           9   P-value                           0.0000\n",
            "Avg Obs:                       30.000   Distribution:                   F(2,268)\n",
            "Min Obs:                       30.000                                           \n",
            "Max Obs:                       30.000   F-statistic (robust):             25.248\n",
            "                                        P-value                           0.0000\n",
            "Time periods:                      30   Distribution:                   F(2,268)\n",
            "Avg Obs:                       9.0000                                           \n",
            "Min Obs:                       9.0000                                           \n",
            "Max Obs:                       9.0000                                           \n",
            "                                                                                \n",
            "                             Parameter Estimates                              \n",
            "==============================================================================\n",
            "            Parameter  Std. Err.     T-stat    P-value    Lower CI    Upper CI\n",
            "------------------------------------------------------------------------------\n",
            "mean_x         2.9920     0.4325     6.9184     0.0000      2.1405      3.8435\n",
            "diff           0.0508     0.0313     1.6222     0.1059     -0.0109      0.1125\n",
            "==============================================================================\n"
          ],
          "name": "stdout"
        }
      ]
    },
    {
      "cell_type": "markdown",
      "metadata": {
        "id": "J2SIrgc-669P"
      },
      "source": [
        "Как мы видим, коэффициценты в модели RE такие же как в BE и FE. То есть cross-sectional и time-series эффекты сильно отличаются. Если магазины различаются в параметре Click/Footfall на 0,1, то в среднем они отличаются в конверсии на 0,299. При этом, если Click/Footfall в одном конкретном магазине увеличится на 0,1, то конверсия увеличится в среднем только на 0,051. "
      ]
    },
    {
      "cell_type": "markdown",
      "metadata": {
        "id": "t7bhzvWc94V4"
      },
      "source": [
        "Но часто интересен time-series эффект, а качество этой модели плохое, поэтому несмотря на наличие значимых индивидуальных эффектов итоговый результат будем смотреть по Pooled модели."
      ]
    },
    {
      "cell_type": "code",
      "metadata": {
        "id": "VQr_WED6LDr0",
        "outputId": "c64011f4-3784-4a0d-9793-272fbed52d57",
        "colab": {
          "base_uri": "https://localhost:8080/",
          "height": 281
        }
      },
      "source": [
        "import matplotlib.pyplot as plt\n",
        "\n",
        "fig, ax = plt.subplots()\n",
        "line1, = ax.plot(np.arange(1,271), df_all['Conversion'], color = 'green')\n",
        "line2, = ax.plot(np.arange(1,271), res_pooled.predict(), color = 'red')\n",
        "plt.title(str('Actual и Fitted vs Time Index для всех магазинов'))\n",
        "plt.show()"
      ],
      "execution_count": null,
      "outputs": [
        {
          "output_type": "display_data",
          "data": {
            "image/png": "[encoded data removed]",
            "text/plain": [
              "<Figure size 432x288 with 1 Axes>"
            ]
          },
          "metadata": {
            "tags": [],
            "needs_background": "light"
          }
        }
      ]
    },
    {
      "cell_type": "code",
      "metadata": {
        "id": "VqdthTQDfUW1",
        "outputId": "96108f4a-1bac-446d-aa63-0cb3a6bbeb4d",
        "colab": {
          "base_uri": "https://localhost:8080/",
          "height": 299
        }
      },
      "source": [
        "  plt.scatter(df_all['Cl/Footfall'], df_all['Conversion'])\n",
        "  plt.plot(df_all['Cl/Footfall'],  res_pooled.predict(), color = 'red')\n",
        "  plt.title(str('Actual vs Fitted для всех магазинов'))"
      ],
      "execution_count": null,
      "outputs": [
        {
          "output_type": "execute_result",
          "data": {
            "text/plain": [
              "Text(0.5, 1.0, 'Actual vs Fitted для всех магазинов')"
            ]
          },
          "metadata": {
            "tags": []
          },
          "execution_count": 40
        },
        {
          "output_type": "display_data",
          "data": {
            "image/png": "[encoded data removed]",
            "text/plain": [
              "<Figure size 432x288 with 1 Axes>"
            ]
          },
          "metadata": {
            "tags": [],
            "needs_background": "light"
          }
        }
      ]
    },
    {
      "cell_type": "code",
      "metadata": {
        "id": "6QvkV-OtcUmz",
        "outputId": "3abf01c7-a208-4f6f-df1c-a403bb498423",
        "colab": {
          "base_uri": "https://localhost:8080/",
          "height": 513
        }
      },
      "source": [
        "# Actual vs Fitted для каждого магазина\n",
        "plt.figure(figsize=(21, 12))\n",
        "for i, model in enumerate(model_list):  \n",
        "  plt.subplot(3, 3, i+1)\n",
        "  plt.scatter(df['x{}'.format(shops_ind[i])], df['y{}'.format(shops_ind[i])])\n",
        "  plt.plot(df['x{}'.format(shops_ind[i])],  model.predict(), color = 'red')\n",
        "  plt.title(str('Actual vs Fitted для магазина ') + str('y{}'.format(shops_ind[i])))\n",
        "plt.show()"
      ],
      "execution_count": null,
      "outputs": [
        {
          "output_type": "display_data",
          "data": {
            "image/png": "[encoded data removed]",
            "text/plain": [
              "<Figure size 1512x864 with 9 Axes>"
            ]
          },
          "metadata": {
            "tags": [],
            "needs_background": "light"
          }
        }
      ]
    },
    {
      "cell_type": "markdown",
      "metadata": {
        "id": "KTfDdYtOe5gg"
      },
      "source": [
        "Видно, что добавление константы улучшит ситуацию, но по условиям задания модели должны быть без нее"
      ]
    },
    {
      "cell_type": "code",
      "metadata": {
        "id": "X0SJtwKHSmAy",
        "outputId": "f8e2dfc5-43df-412f-eff1-e8aa1c7fbc65",
        "colab": {
          "base_uri": "https://localhost:8080/",
          "height": 513
        }
      },
      "source": [
        "# Actual и Fitted vs Time Index  для каждого магазина\n",
        "plt.figure(figsize=(21, 12))\n",
        "for i, model in enumerate(model_list):  \n",
        "  plt.subplot(3, 3, i+1)\n",
        "  plt.plot(np.arange(1,len(df)+1), df['y{}'.format(shops_ind[i])], color = 'green')\n",
        "  plt.plot(np.arange(1, len(df)+1), model.predict(), color = 'red')\n",
        "  plt.title(str('Actual и Fitted vs Time Index для магазина ') + str('y{}'.format(shops_ind[i])))\n",
        "plt.show()"
      ],
      "execution_count": null,
      "outputs": [
        {
          "output_type": "display_data",
          "data": {
            "image/png": "[encoded data removed]",
            "text/plain": [
              "<Figure size 1512x864 with 9 Axes>"
            ]
          },
          "metadata": {
            "tags": [],
            "needs_background": "light"
          }
        }
      ]
    },
    {
      "cell_type": "markdown",
      "metadata": {
        "id": "Yk4ZveO1aaq_"
      },
      "source": [
        "### Задание 2 ###"
      ]
    },
    {
      "cell_type": "code",
      "metadata": {
        "id": "WCxpxXRSZC3m",
        "outputId": "1e809d67-ecab-4286-e779-595251ca7ad8",
        "colab": {
          "base_uri": "https://localhost:8080/",
          "height": 202
        }
      },
      "source": [
        "file2 = 'Looks_Data'\n",
        "x2 = pd.ExcelFile(file2)\n",
        "df_looks = x2.parse('result 1')\n",
        "df_looks.head(5)"
      ],
      "execution_count": null,
      "outputs": [
        {
          "output_type": "execute_result",
          "data": {
            "text/html": [
              "<div>\n",
              "<style scoped>\n",
              "    .dataframe tbody tr th:only-of-type {\n",
              "        vertical-align: middle;\n",
              "    }\n",
              "\n",
              "    .dataframe tbody tr th {\n",
              "        vertical-align: top;\n",
              "    }\n",
              "\n",
              "    .dataframe thead th {\n",
              "        text-align: right;\n",
              "    }\n",
              "</style>\n",
              "<table border=\"1\" class=\"dataframe\">\n",
              "  <thead>\n",
              "    <tr style=\"text-align: right;\">\n",
              "      <th></th>\n",
              "      <th>product_id</th>\n",
              "      <th>look_id</th>\n",
              "      <th>look_created_on</th>\n",
              "      <th>model</th>\n",
              "      <th>look_updated_on</th>\n",
              "    </tr>\n",
              "  </thead>\n",
              "  <tbody>\n",
              "    <tr>\n",
              "      <th>0</th>\n",
              "      <td>2987354</td>\n",
              "      <td>235480</td>\n",
              "      <td>2020-02-19 18:21:44.773000</td>\n",
              "      <td>437875</td>\n",
              "      <td>2020-07-14 07:47:46.365000</td>\n",
              "    </tr>\n",
              "    <tr>\n",
              "      <th>1</th>\n",
              "      <td>2855723</td>\n",
              "      <td>235480</td>\n",
              "      <td>2020-02-19 18:21:44.773000</td>\n",
              "      <td>127922</td>\n",
              "      <td>2020-07-14 07:47:46.365000</td>\n",
              "    </tr>\n",
              "    <tr>\n",
              "      <th>2</th>\n",
              "      <td>2573660</td>\n",
              "      <td>235480</td>\n",
              "      <td>2020-02-19 18:21:44.773000</td>\n",
              "      <td>2996413</td>\n",
              "      <td>2020-07-14 07:47:46.365000</td>\n",
              "    </tr>\n",
              "    <tr>\n",
              "      <th>3</th>\n",
              "      <td>2914539</td>\n",
              "      <td>235480</td>\n",
              "      <td>2020-02-19 18:21:44.773000</td>\n",
              "      <td>247936</td>\n",
              "      <td>2020-07-14 07:47:46.365000</td>\n",
              "    </tr>\n",
              "    <tr>\n",
              "      <th>4</th>\n",
              "      <td>2863824</td>\n",
              "      <td>235480</td>\n",
              "      <td>2020-02-19 18:21:44.773000</td>\n",
              "      <td>967858</td>\n",
              "      <td>2020-07-14 07:47:46.365000</td>\n",
              "    </tr>\n",
              "  </tbody>\n",
              "</table>\n",
              "</div>"
            ],
            "text/plain": [
              "   product_id  look_id  ...    model             look_updated_on\n",
              "0     2987354   235480  ...   437875  2020-07-14 07:47:46.365000\n",
              "1     2855723   235480  ...   127922  2020-07-14 07:47:46.365000\n",
              "2     2573660   235480  ...  2996413  2020-07-14 07:47:46.365000\n",
              "3     2914539   235480  ...   247936  2020-07-14 07:47:46.365000\n",
              "4     2863824   235480  ...   967858  2020-07-14 07:47:46.365000\n",
              "\n",
              "[5 rows x 5 columns]"
            ]
          },
          "metadata": {
            "tags": []
          },
          "execution_count": 43
        }
      ]
    },
    {
      "cell_type": "code",
      "metadata": {
        "id": "YiSaVJyKHumw",
        "outputId": "12e3ada2-8420-4a51-d409-e1ac88fefbb4",
        "colab": {
          "base_uri": "https://localhost:8080/",
          "height": 415
        }
      },
      "source": [
        "df_looks.sort_values(by = ['product_id', 'look_id', 'look_created_on'], inplace =True)\n",
        "df_looks"
      ],
      "execution_count": null,
      "outputs": [
        {
          "output_type": "execute_result",
          "data": {
            "text/html": [
              "<div>\n",
              "<style scoped>\n",
              "    .dataframe tbody tr th:only-of-type {\n",
              "        vertical-align: middle;\n",
              "    }\n",
              "\n",
              "    .dataframe tbody tr th {\n",
              "        vertical-align: top;\n",
              "    }\n",
              "\n",
              "    .dataframe thead th {\n",
              "        text-align: right;\n",
              "    }\n",
              "</style>\n",
              "<table border=\"1\" class=\"dataframe\">\n",
              "  <thead>\n",
              "    <tr style=\"text-align: right;\">\n",
              "      <th></th>\n",
              "      <th>product_id</th>\n",
              "      <th>look_id</th>\n",
              "      <th>look_created_on</th>\n",
              "      <th>model</th>\n",
              "      <th>look_updated_on</th>\n",
              "    </tr>\n",
              "  </thead>\n",
              "  <tbody>\n",
              "    <tr>\n",
              "      <th>24538</th>\n",
              "      <td>2285688</td>\n",
              "      <td>135154</td>\n",
              "      <td>2019-04-29 12:54:36.138000</td>\n",
              "      <td>8565384</td>\n",
              "      <td>2020-03-12 10:57:06.231000</td>\n",
              "    </tr>\n",
              "    <tr>\n",
              "      <th>22570</th>\n",
              "      <td>2285688</td>\n",
              "      <td>139039</td>\n",
              "      <td>2019-05-27 17:47:22.972000</td>\n",
              "      <td>8565384</td>\n",
              "      <td>2020-03-12 10:58:09.203000</td>\n",
              "    </tr>\n",
              "    <tr>\n",
              "      <th>20517</th>\n",
              "      <td>2285691</td>\n",
              "      <td>129052</td>\n",
              "      <td>2019-03-27 11:20:09.845000</td>\n",
              "      <td>1565028</td>\n",
              "      <td>2020-03-12 10:55:47.962000</td>\n",
              "    </tr>\n",
              "    <tr>\n",
              "      <th>23834</th>\n",
              "      <td>2285691</td>\n",
              "      <td>129059</td>\n",
              "      <td>2019-03-27 11:34:06.048000</td>\n",
              "      <td>1565028</td>\n",
              "      <td>2020-03-12 10:55:48.204000</td>\n",
              "    </tr>\n",
              "    <tr>\n",
              "      <th>23986</th>\n",
              "      <td>2285691</td>\n",
              "      <td>129060</td>\n",
              "      <td>2019-03-27 11:37:23.956000</td>\n",
              "      <td>1565028</td>\n",
              "      <td>2020-03-12 10:55:48.456000</td>\n",
              "    </tr>\n",
              "    <tr>\n",
              "      <th>...</th>\n",
              "      <td>...</td>\n",
              "      <td>...</td>\n",
              "      <td>...</td>\n",
              "      <td>...</td>\n",
              "      <td>...</td>\n",
              "    </tr>\n",
              "    <tr>\n",
              "      <th>110374</th>\n",
              "      <td>3324292</td>\n",
              "      <td>295479</td>\n",
              "      <td>2020-09-30 19:39:56.438000</td>\n",
              "      <td>2998742</td>\n",
              "      <td>2020-09-30 19:39:56.438000</td>\n",
              "    </tr>\n",
              "    <tr>\n",
              "      <th>120463</th>\n",
              "      <td>3327094</td>\n",
              "      <td>292339</td>\n",
              "      <td>2020-09-25 09:06:04.988000</td>\n",
              "      <td>6818617</td>\n",
              "      <td>2020-09-25 10:39:36.881000</td>\n",
              "    </tr>\n",
              "    <tr>\n",
              "      <th>73129</th>\n",
              "      <td>3327094</td>\n",
              "      <td>294336</td>\n",
              "      <td>2020-09-29 08:10:59.329000</td>\n",
              "      <td>6818617</td>\n",
              "      <td>2020-09-30 14:56:13.498000</td>\n",
              "    </tr>\n",
              "    <tr>\n",
              "      <th>100616</th>\n",
              "      <td>3327095</td>\n",
              "      <td>292206</td>\n",
              "      <td>2020-09-24 19:27:01.906000</td>\n",
              "      <td>6818838</td>\n",
              "      <td>2020-09-25 08:48:50.733000</td>\n",
              "    </tr>\n",
              "    <tr>\n",
              "      <th>99239</th>\n",
              "      <td>3327097</td>\n",
              "      <td>293643</td>\n",
              "      <td>2020-09-28 08:04:52.203000</td>\n",
              "      <td>6818846</td>\n",
              "      <td>2020-09-28 08:04:52.203000</td>\n",
              "    </tr>\n",
              "  </tbody>\n",
              "</table>\n",
              "<p>156348 rows × 5 columns</p>\n",
              "</div>"
            ],
            "text/plain": [
              "        product_id  look_id  ...    model             look_updated_on\n",
              "24538      2285688   135154  ...  8565384  2020-03-12 10:57:06.231000\n",
              "22570      2285688   139039  ...  8565384  2020-03-12 10:58:09.203000\n",
              "20517      2285691   129052  ...  1565028  2020-03-12 10:55:47.962000\n",
              "23834      2285691   129059  ...  1565028  2020-03-12 10:55:48.204000\n",
              "23986      2285691   129060  ...  1565028  2020-03-12 10:55:48.456000\n",
              "...            ...      ...  ...      ...                         ...\n",
              "110374     3324292   295479  ...  2998742  2020-09-30 19:39:56.438000\n",
              "120463     3327094   292339  ...  6818617  2020-09-25 10:39:36.881000\n",
              "73129      3327094   294336  ...  6818617  2020-09-30 14:56:13.498000\n",
              "100616     3327095   292206  ...  6818838  2020-09-25 08:48:50.733000\n",
              "99239      3327097   293643  ...  6818846  2020-09-28 08:04:52.203000\n",
              "\n",
              "[156348 rows x 5 columns]"
            ]
          },
          "metadata": {
            "tags": []
          },
          "execution_count": 44
        }
      ]
    },
    {
      "cell_type": "code",
      "metadata": {
        "id": "UMvfgpdTLy_n"
      },
      "source": [
        "count_list = [1]\n",
        "k = 1\n",
        "for i in range(0, len(df_looks['product_id'])-1):\n",
        "  if df_looks['product_id'].iloc[i+1] == df_looks['product_id'].iloc[i]: \n",
        "    k +=1\n",
        "    count_list.append(k)\n",
        "  else:\n",
        "    k = 1\n",
        "    count_list.append(k)\n",
        "  "
      ],
      "execution_count": null,
      "outputs": []
    },
    {
      "cell_type": "code",
      "metadata": {
        "id": "24XpQlWjQBhG",
        "outputId": "3ebf6be2-e1f3-466c-b1db-117e56bce832",
        "colab": {
          "base_uri": "https://localhost:8080/",
          "height": 415
        }
      },
      "source": [
        "df_looks['look_count'] = count_list\n",
        "df_looks"
      ],
      "execution_count": null,
      "outputs": [
        {
          "output_type": "execute_result",
          "data": {
            "text/html": [
              "<div>\n",
              "<style scoped>\n",
              "    .dataframe tbody tr th:only-of-type {\n",
              "        vertical-align: middle;\n",
              "    }\n",
              "\n",
              "    .dataframe tbody tr th {\n",
              "        vertical-align: top;\n",
              "    }\n",
              "\n",
              "    .dataframe thead th {\n",
              "        text-align: right;\n",
              "    }\n",
              "</style>\n",
              "<table border=\"1\" class=\"dataframe\">\n",
              "  <thead>\n",
              "    <tr style=\"text-align: right;\">\n",
              "      <th></th>\n",
              "      <th>product_id</th>\n",
              "      <th>look_id</th>\n",
              "      <th>look_created_on</th>\n",
              "      <th>model</th>\n",
              "      <th>look_updated_on</th>\n",
              "      <th>look_count</th>\n",
              "    </tr>\n",
              "  </thead>\n",
              "  <tbody>\n",
              "    <tr>\n",
              "      <th>24538</th>\n",
              "      <td>2285688</td>\n",
              "      <td>135154</td>\n",
              "      <td>2019-04-29 12:54:36.138000</td>\n",
              "      <td>8565384</td>\n",
              "      <td>2020-03-12 10:57:06.231000</td>\n",
              "      <td>1</td>\n",
              "    </tr>\n",
              "    <tr>\n",
              "      <th>22570</th>\n",
              "      <td>2285688</td>\n",
              "      <td>139039</td>\n",
              "      <td>2019-05-27 17:47:22.972000</td>\n",
              "      <td>8565384</td>\n",
              "      <td>2020-03-12 10:58:09.203000</td>\n",
              "      <td>2</td>\n",
              "    </tr>\n",
              "    <tr>\n",
              "      <th>20517</th>\n",
              "      <td>2285691</td>\n",
              "      <td>129052</td>\n",
              "      <td>2019-03-27 11:20:09.845000</td>\n",
              "      <td>1565028</td>\n",
              "      <td>2020-03-12 10:55:47.962000</td>\n",
              "      <td>1</td>\n",
              "    </tr>\n",
              "    <tr>\n",
              "      <th>23834</th>\n",
              "      <td>2285691</td>\n",
              "      <td>129059</td>\n",
              "      <td>2019-03-27 11:34:06.048000</td>\n",
              "      <td>1565028</td>\n",
              "      <td>2020-03-12 10:55:48.204000</td>\n",
              "      <td>2</td>\n",
              "    </tr>\n",
              "    <tr>\n",
              "      <th>23986</th>\n",
              "      <td>2285691</td>\n",
              "      <td>129060</td>\n",
              "      <td>2019-03-27 11:37:23.956000</td>\n",
              "      <td>1565028</td>\n",
              "      <td>2020-03-12 10:55:48.456000</td>\n",
              "      <td>3</td>\n",
              "    </tr>\n",
              "    <tr>\n",
              "      <th>...</th>\n",
              "      <td>...</td>\n",
              "      <td>...</td>\n",
              "      <td>...</td>\n",
              "      <td>...</td>\n",
              "      <td>...</td>\n",
              "      <td>...</td>\n",
              "    </tr>\n",
              "    <tr>\n",
              "      <th>110374</th>\n",
              "      <td>3324292</td>\n",
              "      <td>295479</td>\n",
              "      <td>2020-09-30 19:39:56.438000</td>\n",
              "      <td>2998742</td>\n",
              "      <td>2020-09-30 19:39:56.438000</td>\n",
              "      <td>18</td>\n",
              "    </tr>\n",
              "    <tr>\n",
              "      <th>120463</th>\n",
              "      <td>3327094</td>\n",
              "      <td>292339</td>\n",
              "      <td>2020-09-25 09:06:04.988000</td>\n",
              "      <td>6818617</td>\n",
              "      <td>2020-09-25 10:39:36.881000</td>\n",
              "      <td>1</td>\n",
              "    </tr>\n",
              "    <tr>\n",
              "      <th>73129</th>\n",
              "      <td>3327094</td>\n",
              "      <td>294336</td>\n",
              "      <td>2020-09-29 08:10:59.329000</td>\n",
              "      <td>6818617</td>\n",
              "      <td>2020-09-30 14:56:13.498000</td>\n",
              "      <td>2</td>\n",
              "    </tr>\n",
              "    <tr>\n",
              "      <th>100616</th>\n",
              "      <td>3327095</td>\n",
              "      <td>292206</td>\n",
              "      <td>2020-09-24 19:27:01.906000</td>\n",
              "      <td>6818838</td>\n",
              "      <td>2020-09-25 08:48:50.733000</td>\n",
              "      <td>1</td>\n",
              "    </tr>\n",
              "    <tr>\n",
              "      <th>99239</th>\n",
              "      <td>3327097</td>\n",
              "      <td>293643</td>\n",
              "      <td>2020-09-28 08:04:52.203000</td>\n",
              "      <td>6818846</td>\n",
              "      <td>2020-09-28 08:04:52.203000</td>\n",
              "      <td>1</td>\n",
              "    </tr>\n",
              "  </tbody>\n",
              "</table>\n",
              "<p>156348 rows × 6 columns</p>\n",
              "</div>"
            ],
            "text/plain": [
              "        product_id  look_id  ...             look_updated_on  look_count\n",
              "24538      2285688   135154  ...  2020-03-12 10:57:06.231000           1\n",
              "22570      2285688   139039  ...  2020-03-12 10:58:09.203000           2\n",
              "20517      2285691   129052  ...  2020-03-12 10:55:47.962000           1\n",
              "23834      2285691   129059  ...  2020-03-12 10:55:48.204000           2\n",
              "23986      2285691   129060  ...  2020-03-12 10:55:48.456000           3\n",
              "...            ...      ...  ...                         ...         ...\n",
              "110374     3324292   295479  ...  2020-09-30 19:39:56.438000          18\n",
              "120463     3327094   292339  ...  2020-09-25 10:39:36.881000           1\n",
              "73129      3327094   294336  ...  2020-09-30 14:56:13.498000           2\n",
              "100616     3327095   292206  ...  2020-09-25 08:48:50.733000           1\n",
              "99239      3327097   293643  ...  2020-09-28 08:04:52.203000           1\n",
              "\n",
              "[156348 rows x 6 columns]"
            ]
          },
          "metadata": {
            "tags": []
          },
          "execution_count": 46
        }
      ]
    },
    {
      "cell_type": "code",
      "metadata": {
        "id": "GXl-tewlVGHx",
        "outputId": "cb9ee2de-2b41-4b4f-a44f-e97d8fb14379",
        "colab": {
          "base_uri": "https://localhost:8080/",
          "height": 415
        }
      },
      "source": [
        "df_looks[df_looks['look_count']<=15]"
      ],
      "execution_count": null,
      "outputs": [
        {
          "output_type": "execute_result",
          "data": {
            "text/html": [
              "<div>\n",
              "<style scoped>\n",
              "    .dataframe tbody tr th:only-of-type {\n",
              "        vertical-align: middle;\n",
              "    }\n",
              "\n",
              "    .dataframe tbody tr th {\n",
              "        vertical-align: top;\n",
              "    }\n",
              "\n",
              "    .dataframe thead th {\n",
              "        text-align: right;\n",
              "    }\n",
              "</style>\n",
              "<table border=\"1\" class=\"dataframe\">\n",
              "  <thead>\n",
              "    <tr style=\"text-align: right;\">\n",
              "      <th></th>\n",
              "      <th>product_id</th>\n",
              "      <th>look_id</th>\n",
              "      <th>look_created_on</th>\n",
              "      <th>model</th>\n",
              "      <th>look_updated_on</th>\n",
              "      <th>look_count</th>\n",
              "    </tr>\n",
              "  </thead>\n",
              "  <tbody>\n",
              "    <tr>\n",
              "      <th>24538</th>\n",
              "      <td>2285688</td>\n",
              "      <td>135154</td>\n",
              "      <td>2019-04-29 12:54:36.138000</td>\n",
              "      <td>8565384</td>\n",
              "      <td>2020-03-12 10:57:06.231000</td>\n",
              "      <td>1</td>\n",
              "    </tr>\n",
              "    <tr>\n",
              "      <th>22570</th>\n",
              "      <td>2285688</td>\n",
              "      <td>139039</td>\n",
              "      <td>2019-05-27 17:47:22.972000</td>\n",
              "      <td>8565384</td>\n",
              "      <td>2020-03-12 10:58:09.203000</td>\n",
              "      <td>2</td>\n",
              "    </tr>\n",
              "    <tr>\n",
              "      <th>20517</th>\n",
              "      <td>2285691</td>\n",
              "      <td>129052</td>\n",
              "      <td>2019-03-27 11:20:09.845000</td>\n",
              "      <td>1565028</td>\n",
              "      <td>2020-03-12 10:55:47.962000</td>\n",
              "      <td>1</td>\n",
              "    </tr>\n",
              "    <tr>\n",
              "      <th>23834</th>\n",
              "      <td>2285691</td>\n",
              "      <td>129059</td>\n",
              "      <td>2019-03-27 11:34:06.048000</td>\n",
              "      <td>1565028</td>\n",
              "      <td>2020-03-12 10:55:48.204000</td>\n",
              "      <td>2</td>\n",
              "    </tr>\n",
              "    <tr>\n",
              "      <th>23986</th>\n",
              "      <td>2285691</td>\n",
              "      <td>129060</td>\n",
              "      <td>2019-03-27 11:37:23.956000</td>\n",
              "      <td>1565028</td>\n",
              "      <td>2020-03-12 10:55:48.456000</td>\n",
              "      <td>3</td>\n",
              "    </tr>\n",
              "    <tr>\n",
              "      <th>...</th>\n",
              "      <td>...</td>\n",
              "      <td>...</td>\n",
              "      <td>...</td>\n",
              "      <td>...</td>\n",
              "      <td>...</td>\n",
              "      <td>...</td>\n",
              "    </tr>\n",
              "    <tr>\n",
              "      <th>81142</th>\n",
              "      <td>3324292</td>\n",
              "      <td>295243</td>\n",
              "      <td>2020-09-30 14:11:29.570000</td>\n",
              "      <td>2998742</td>\n",
              "      <td>2020-09-30 14:46:03.785000</td>\n",
              "      <td>15</td>\n",
              "    </tr>\n",
              "    <tr>\n",
              "      <th>120463</th>\n",
              "      <td>3327094</td>\n",
              "      <td>292339</td>\n",
              "      <td>2020-09-25 09:06:04.988000</td>\n",
              "      <td>6818617</td>\n",
              "      <td>2020-09-25 10:39:36.881000</td>\n",
              "      <td>1</td>\n",
              "    </tr>\n",
              "    <tr>\n",
              "      <th>73129</th>\n",
              "      <td>3327094</td>\n",
              "      <td>294336</td>\n",
              "      <td>2020-09-29 08:10:59.329000</td>\n",
              "      <td>6818617</td>\n",
              "      <td>2020-09-30 14:56:13.498000</td>\n",
              "      <td>2</td>\n",
              "    </tr>\n",
              "    <tr>\n",
              "      <th>100616</th>\n",
              "      <td>3327095</td>\n",
              "      <td>292206</td>\n",
              "      <td>2020-09-24 19:27:01.906000</td>\n",
              "      <td>6818838</td>\n",
              "      <td>2020-09-25 08:48:50.733000</td>\n",
              "      <td>1</td>\n",
              "    </tr>\n",
              "    <tr>\n",
              "      <th>99239</th>\n",
              "      <td>3327097</td>\n",
              "      <td>293643</td>\n",
              "      <td>2020-09-28 08:04:52.203000</td>\n",
              "      <td>6818846</td>\n",
              "      <td>2020-09-28 08:04:52.203000</td>\n",
              "      <td>1</td>\n",
              "    </tr>\n",
              "  </tbody>\n",
              "</table>\n",
              "<p>28728 rows × 6 columns</p>\n",
              "</div>"
            ],
            "text/plain": [
              "        product_id  look_id  ...             look_updated_on  look_count\n",
              "24538      2285688   135154  ...  2020-03-12 10:57:06.231000           1\n",
              "22570      2285688   139039  ...  2020-03-12 10:58:09.203000           2\n",
              "20517      2285691   129052  ...  2020-03-12 10:55:47.962000           1\n",
              "23834      2285691   129059  ...  2020-03-12 10:55:48.204000           2\n",
              "23986      2285691   129060  ...  2020-03-12 10:55:48.456000           3\n",
              "...            ...      ...  ...                         ...         ...\n",
              "81142      3324292   295243  ...  2020-09-30 14:46:03.785000          15\n",
              "120463     3327094   292339  ...  2020-09-25 10:39:36.881000           1\n",
              "73129      3327094   294336  ...  2020-09-30 14:56:13.498000           2\n",
              "100616     3327095   292206  ...  2020-09-25 08:48:50.733000           1\n",
              "99239      3327097   293643  ...  2020-09-28 08:04:52.203000           1\n",
              "\n",
              "[28728 rows x 6 columns]"
            ]
          },
          "metadata": {
            "tags": []
          },
          "execution_count": 47
        }
      ]
    },
    {
      "cell_type": "code",
      "metadata": {
        "id": "x8hJga_jWmr_"
      },
      "source": [],
      "execution_count": null,
      "outputs": []
    }
  ]
}